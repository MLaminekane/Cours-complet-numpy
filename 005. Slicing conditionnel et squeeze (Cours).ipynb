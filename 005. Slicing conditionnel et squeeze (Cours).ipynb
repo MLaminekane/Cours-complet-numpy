{
 "cells": [
  {
   "cell_type": "markdown",
   "id": "distinct-sessions",
   "metadata": {},
   "source": [
    "# <center>V. Slicing conditionnel et squeeze</center>"
   ]
  },
  {
   "cell_type": "markdown",
   "id": "developmental-colleague",
   "metadata": {},
   "source": [
    "**Ne pas oublier d'exécuter la cellule ci-dessous** qui permet d'importer Numpy!"
   ]
  },
  {
   "cell_type": "code",
   "execution_count": 2,
   "id": "worse-discussion",
   "metadata": {},
   "outputs": [],
   "source": [
    "import numpy as np"
   ]
  },
  {
   "cell_type": "markdown",
   "id": "positive-billy",
   "metadata": {},
   "source": [
    "# <center>V.1. Slicing conditionnel</center>"
   ]
  },
  {
   "cell_type": "markdown",
   "id": "tamil-somalia",
   "metadata": {},
   "source": [
    "### <center><u>V.1.1. ndarray de booléens</u></center>"
   ]
  },
  {
   "cell_type": "markdown",
   "id": "talented-ceiling",
   "metadata": {},
   "source": [
    "Il est possible d'utiliser des **structures conditionnelles** sur nos ndarray pour récupérer un nouvel ndarray contenant des booléens.\n",
    "\n",
    "Prenons un exemple d'une matrice de dimension 4x4, et créons cette condition : **les éléments de la matrice qui sont supérieurs 6**."
   ]
  },
  {
   "cell_type": "code",
   "execution_count": 19,
   "id": "moderate-practitioner",
   "metadata": {},
   "outputs": [
    {
     "data": {
      "text/plain": [
       "array([[ 1,  2,  3,  4],\n",
       "       [ 5,  6,  7,  8],\n",
       "       [ 9, 10, 11, 12],\n",
       "       [13, 14, 15, 16]])"
      ]
     },
     "execution_count": 19,
     "metadata": {},
     "output_type": "execute_result"
    }
   ],
   "source": [
    "matrice_b = np.array([[1,2,3,4], [5,6,7,8], [9,10,11,12], [13,14,15,16]])\n",
    "matrice_b"
   ]
  },
  {
   "cell_type": "code",
   "execution_count": 16,
   "id": "empirical-apache",
   "metadata": {},
   "outputs": [
    {
     "data": {
      "text/plain": [
       "array([[False, False, False, False],\n",
       "       [False, False,  True,  True],\n",
       "       [ True,  True,  True,  True],\n",
       "       [ True,  True,  True,  True]])"
      ]
     },
     "execution_count": 16,
     "metadata": {},
     "output_type": "execute_result"
    }
   ],
   "source": [
    "matrice_b > 6"
   ]
  },
  {
   "cell_type": "markdown",
   "id": "legislative-furniture",
   "metadata": {},
   "source": [
    "On obtient une matrice de **même dimension**, et pour chaque élément, on a un **booléen correspondant à notre condition**. Ici, tous les indices où les valeurs de matrice_b étaient supérieures à 6 sont à True, les autres sont à False.\n",
    "\n",
    "Prenons un second exemple avec une autre condition : **les éléments de la matrice qui sont pairs**."
   ]
  },
  {
   "cell_type": "code",
   "execution_count": 17,
   "id": "small-failure",
   "metadata": {},
   "outputs": [
    {
     "data": {
      "text/plain": [
       "array([[False,  True, False,  True],\n",
       "       [False,  True, False,  True],\n",
       "       [False,  True, False,  True],\n",
       "       [False,  True, False,  True]])"
      ]
     },
     "execution_count": 17,
     "metadata": {},
     "output_type": "execute_result"
    }
   ],
   "source": [
    "matrice_b % 2 == 0"
   ]
  },
  {
   "cell_type": "markdown",
   "id": "smart-criterion",
   "metadata": {},
   "source": [
    "On obtient une matrice de même dimension (4x4). Ici, toutes les valeurs aux **indices où les valeurs de matrice_b sont pairs** sont définis à True, les autres sont définis à False.\n",
    "\n",
    "**Des conditions peuvent être établies entre un vecteur et une matrice** si ces deux ndarray respectent les règles du broadcasting que nous avons vues à l'épisode précédent."
   ]
  },
  {
   "cell_type": "code",
   "execution_count": 21,
   "id": "postal-farmer",
   "metadata": {},
   "outputs": [
    {
     "data": {
      "text/plain": [
       "array([9, 7, 3, 8])"
      ]
     },
     "execution_count": 21,
     "metadata": {},
     "output_type": "execute_result"
    }
   ],
   "source": [
    "vecteur_b = np.array([9,7,3,8])\n",
    "vecteur_b"
   ]
  },
  {
   "cell_type": "markdown",
   "id": "moved-watts",
   "metadata": {},
   "source": [
    "**Condition : les valeurs des éléments de la matrice qui sont supérieures ou égales aux valeurs des éléments du vecteur.**"
   ]
  },
  {
   "cell_type": "code",
   "execution_count": 23,
   "id": "promising-plate",
   "metadata": {},
   "outputs": [
    {
     "data": {
      "text/plain": [
       "array([[False, False,  True, False],\n",
       "       [False, False,  True,  True],\n",
       "       [ True,  True,  True,  True],\n",
       "       [ True,  True,  True,  True]])"
      ]
     },
     "execution_count": 23,
     "metadata": {},
     "output_type": "execute_result"
    }
   ],
   "source": [
    "matrice_b >= vecteur_b"
   ]
  },
  {
   "cell_type": "markdown",
   "id": "related-blink",
   "metadata": {},
   "source": [
    "Le **vecteur_b** subit un **broadcast** en matrice. vecteur_b = np.array([[9, 7, 3, 8], [9, 7, 3, 8], [9, 7, 3, 8], [9, 7, 3, 8]])\n",
    "\n",
    "Ensuite **on compare chaque ligne élément par élément en applicant la condition**. On obtient alors une matrice de dimension 4x4, avec les booléens correspondant à notre condition."
   ]
  },
  {
   "cell_type": "markdown",
   "id": "chief-pickup",
   "metadata": {},
   "source": [
    "### <center><u>V.1.2. Les valeurs répondant à la condition</u></center>"
   ]
  },
  {
   "cell_type": "markdown",
   "id": "attractive-needle",
   "metadata": {},
   "source": [
    "#### <center><u>V.1.2.1. Des conditions simples</u></center>"
   ]
  },
  {
   "cell_type": "markdown",
   "id": "czech-residence",
   "metadata": {},
   "source": [
    "Pour obtenir les valeurs répondant à la condition, il faut indiquer **la condition entre crochets**.\n",
    "\n",
    "Reprenons notre exemple, pour **les valeurs de la matrice qui sont supérieurs à 6**."
   ]
  },
  {
   "cell_type": "code",
   "execution_count": 25,
   "id": "aging-taste",
   "metadata": {},
   "outputs": [
    {
     "data": {
      "text/plain": [
       "array([ 7,  8,  9, 10, 11, 12, 13, 14, 15, 16])"
      ]
     },
     "execution_count": 25,
     "metadata": {},
     "output_type": "execute_result"
    }
   ],
   "source": [
    "matrice_b[matrice_b > 6]"
   ]
  },
  {
   "cell_type": "markdown",
   "id": "foreign-finance",
   "metadata": {},
   "source": [
    "On récupère un **ndarray de dimension 1** indiquant toutes les **valeurs supérieures à 2** qu'il a pu trouver dans **matrice_b**.\n",
    "\n",
    "On peut reprendre notre exemple avec notre conditions sur les **valeurs paires**."
   ]
  },
  {
   "cell_type": "code",
   "execution_count": 26,
   "id": "suspected-suffering",
   "metadata": {},
   "outputs": [
    {
     "data": {
      "text/plain": [
       "array([ 2,  4,  6,  8, 10, 12, 14, 16])"
      ]
     },
     "execution_count": 26,
     "metadata": {},
     "output_type": "execute_result"
    }
   ],
   "source": [
    "matrice_b[matrice_b % 2 == 0]"
   ]
  },
  {
   "cell_type": "markdown",
   "id": "unique-proof",
   "metadata": {},
   "source": [
    "On récupère un **ndarray de dimension1** indiquant toutes les **valeurs paires** qu'il a pu trouver dans **matrice_b**."
   ]
  },
  {
   "cell_type": "markdown",
   "id": "fantastic-eugene",
   "metadata": {},
   "source": [
    "#### <center><u>V.1.2.2. Des conditions plus complexes</u></center>"
   ]
  },
  {
   "cell_type": "markdown",
   "id": "jewish-builder",
   "metadata": {},
   "source": [
    "Il est possible d'élaborer des structures conditionnelles plus complexes grâce aux opérateurs : NOT, AND, OR, NAND, NOR."
   ]
  },
  {
   "cell_type": "markdown",
   "id": "proprietary-deployment",
   "metadata": {},
   "source": [
    "Prenons un exemple, et récupérons **les valeurs de notre matrice qui sont à la fois paires et supérieures à 6**.\n",
    "\n",
    "**Rappel** : l'opérateur **ET** en Python s'écrit **&** (éperluette)"
   ]
  },
  {
   "cell_type": "code",
   "execution_count": 31,
   "id": "technical-serial",
   "metadata": {},
   "outputs": [
    {
     "data": {
      "text/plain": [
       "array([ 8, 10, 12, 14, 16])"
      ]
     },
     "execution_count": 31,
     "metadata": {},
     "output_type": "execute_result"
    }
   ],
   "source": [
    "matrice_b[(matrice_b % 2 == 0) & (matrice_b > 6)]"
   ]
  },
  {
   "cell_type": "markdown",
   "id": "located-uncertainty",
   "metadata": {},
   "source": [
    "Les éléments qui sont pairs et supérieurs à 6 dans matrice_b sont au nombre de 5 : 8, 10, 12, 14, 16."
   ]
  },
  {
   "cell_type": "markdown",
   "id": "important-labor",
   "metadata": {},
   "source": [
    "Continuons avec un exemple utilisant l'opérateur **OU**.\n",
    "\n",
    "- Récupérer les éléments **inférieurs à 5 ou supérieurs ou égal à 10**."
   ]
  },
  {
   "cell_type": "code",
   "execution_count": 32,
   "id": "facial-characterization",
   "metadata": {},
   "outputs": [
    {
     "data": {
      "text/plain": [
       "array([ 1,  2,  3,  4, 10, 11, 12, 13, 14, 15, 16])"
      ]
     },
     "execution_count": 32,
     "metadata": {},
     "output_type": "execute_result"
    }
   ],
   "source": [
    "matrice_b[(matrice_b < 5) | (matrice_b >= 10)]"
   ]
  },
  {
   "cell_type": "markdown",
   "id": "pressed-phoenix",
   "metadata": {},
   "source": [
    "Continuons avec un exemple utilisant l'opérateur **ET** et **OU**.\n",
    "\n",
    "Récupérer **les éléments qui sont divisibles par 2 et par 3 ou les éléments qui sont supérieurs à 15**."
   ]
  },
  {
   "cell_type": "code",
   "execution_count": 38,
   "id": "victorian-sauce",
   "metadata": {},
   "outputs": [
    {
     "data": {
      "text/plain": [
       "array([ 6, 12, 16])"
      ]
     },
     "execution_count": 38,
     "metadata": {},
     "output_type": "execute_result"
    }
   ],
   "source": [
    "matrice_b[((matrice_b % 2 == 0) & (matrice_b % 3 == 0)) | (matrice_b > 15)]"
   ]
  },
  {
   "cell_type": "markdown",
   "id": "diverse-premiere",
   "metadata": {},
   "source": [
    " # <center>V.2. Un point sur les dimensions</center>"
   ]
  },
  {
   "cell_type": "markdown",
   "id": "golden-variance",
   "metadata": {},
   "source": [
    "On va utiliser une nouvelle matrice pour effectuer nos démonstrations.\n",
    "\n",
    "L'écriture suivante va nous donner un nombre entier."
   ]
  },
  {
   "cell_type": "code",
   "execution_count": 3,
   "id": "flying-stockholm",
   "metadata": {},
   "outputs": [],
   "source": [
    "matrice_v3 = np.array([[1,2,3], [4,5,6], [7,8,9], [10,11,12]])"
   ]
  },
  {
   "cell_type": "code",
   "execution_count": 4,
   "id": "everyday-discovery",
   "metadata": {},
   "outputs": [
    {
     "data": {
      "text/plain": [
       "numpy.int32"
      ]
     },
     "execution_count": 4,
     "metadata": {},
     "output_type": "execute_result"
    }
   ],
   "source": [
    "type(matrice_v3[0,0])"
   ]
  },
  {
   "cell_type": "markdown",
   "id": "transsexual-spread",
   "metadata": {},
   "source": [
    "En revanche, si on tape : [0,0:1], on va obtenir un **vecteur**."
   ]
  },
  {
   "cell_type": "code",
   "execution_count": 5,
   "id": "developed-bangladesh",
   "metadata": {},
   "outputs": [
    {
     "data": {
      "text/plain": [
       "numpy.ndarray"
      ]
     },
     "execution_count": 5,
     "metadata": {},
     "output_type": "execute_result"
    }
   ],
   "source": [
    "type(matrice_v3[0,0:1])"
   ]
  },
  {
   "cell_type": "markdown",
   "id": "accomplished-assembly",
   "metadata": {},
   "source": [
    "Et si on tape : [0:1, 0:1], on va obtenir une **matrice**."
   ]
  },
  {
   "cell_type": "code",
   "execution_count": 6,
   "id": "civilian-waterproof",
   "metadata": {},
   "outputs": [
    {
     "data": {
      "text/plain": [
       "numpy.ndarray"
      ]
     },
     "execution_count": 6,
     "metadata": {},
     "output_type": "execute_result"
    }
   ],
   "source": [
    "type(matrice_v3[0:1, 0:1])"
   ]
  },
  {
   "cell_type": "code",
   "execution_count": 7,
   "id": "tutorial-cambridge",
   "metadata": {},
   "outputs": [
    {
     "name": "stdout",
     "output_type": "stream",
     "text": [
      "1\n",
      "[1]\n",
      "[[1]]\n"
     ]
    }
   ],
   "source": [
    "print(matrice_v3[0,0])\n",
    "print(matrice_v3[0,0:1])\n",
    "print(matrice_v3[0:1, 0:1])"
   ]
  },
  {
   "cell_type": "code",
   "execution_count": 8,
   "id": "fluid-attack",
   "metadata": {},
   "outputs": [
    {
     "name": "stdout",
     "output_type": "stream",
     "text": [
      "()\n",
      "(1,)\n",
      "(1, 1)\n"
     ]
    }
   ],
   "source": [
    "print(matrice_v3[0,0].shape)\n",
    "print(matrice_v3[0,0:1].shape)\n",
    "print(matrice_v3[0:1, 0:1].shape)"
   ]
  },
  {
   "cell_type": "markdown",
   "id": "found-enforcement",
   "metadata": {},
   "source": [
    "### <center><u>La méthode np.squeeze()</u></center>"
   ]
  },
  {
   "cell_type": "markdown",
   "id": "adequate-identifier",
   "metadata": {},
   "source": [
    "Cette méthode nous permet d'uniformiser le résultat selon la notation que l'on utilise pour récupérer un élément d'un ndarray."
   ]
  },
  {
   "cell_type": "code",
   "execution_count": 9,
   "id": "strategic-shipping",
   "metadata": {},
   "outputs": [
    {
     "name": "stdout",
     "output_type": "stream",
     "text": [
      "1\n",
      "1\n",
      "1\n"
     ]
    }
   ],
   "source": [
    "print(matrice_v3[0,0].squeeze())\n",
    "print(matrice_v3[0,0:1].squeeze())\n",
    "print(matrice_v3[0:1, 0:1].squeeze())"
   ]
  },
  {
   "cell_type": "code",
   "execution_count": 10,
   "id": "altered-receipt",
   "metadata": {},
   "outputs": [
    {
     "name": "stdout",
     "output_type": "stream",
     "text": [
      "()\n",
      "()\n",
      "()\n"
     ]
    }
   ],
   "source": [
    "print(matrice_v3[0,0].squeeze().shape)\n",
    "print(matrice_v3[0,0:1].squeeze().shape)\n",
    "print(matrice_v3[0:1, 0:1].squeeze().shape)"
   ]
  },
  {
   "cell_type": "markdown",
   "id": "sapphire-albania",
   "metadata": {},
   "source": [
    "Grâce à cette méthode, la **dimension redevient la même** (dimension 0). On peut ainsi effectuer des opérations sans se soucier des dimensions renvoyées par la notation que l'on a choisi pour récupérer un élément d'un ndarray."
   ]
  },
  {
   "cell_type": "markdown",
   "id": "equipped-beverage",
   "metadata": {},
   "source": [
    "Il est également possible d'utiliser **np.squeeze()** pour uniformiser le résultat. A vous de choisir l'écriture que vous préférez."
   ]
  },
  {
   "cell_type": "code",
   "execution_count": 13,
   "id": "adjusted-negotiation",
   "metadata": {},
   "outputs": [
    {
     "name": "stdout",
     "output_type": "stream",
     "text": [
      "1\n",
      "1\n",
      "1\n"
     ]
    }
   ],
   "source": [
    "print(np.squeeze(matrice_v3[0,0]))\n",
    "print(np.squeeze(matrice_v3[0,0:1]))\n",
    "print(np.squeeze(matrice_v3[0:1,0:1]))"
   ]
  }
 ],
 "metadata": {
  "kernelspec": {
   "display_name": "Python 3",
   "language": "python",
   "name": "python3"
  },
  "language_info": {
   "codemirror_mode": {
    "name": "ipython",
    "version": 3
   },
   "file_extension": ".py",
   "mimetype": "text/x-python",
   "name": "python",
   "nbconvert_exporter": "python",
   "pygments_lexer": "ipython3",
   "version": "3.9.2"
  }
 },
 "nbformat": 4,
 "nbformat_minor": 5
}
