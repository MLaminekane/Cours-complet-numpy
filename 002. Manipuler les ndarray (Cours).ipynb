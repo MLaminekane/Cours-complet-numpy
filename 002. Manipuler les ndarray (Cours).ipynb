{
 "cells": [
  {
   "cell_type": "markdown",
   "id": "executive-equivalent",
   "metadata": {},
   "source": [
    "# <center>II. Manipuler les ndarray</center>"
   ]
  },
  {
   "cell_type": "markdown",
   "id": "wound-technology",
   "metadata": {},
   "source": [
    "# <center>II.1. Indexing et slicing</center>"
   ]
  },
  {
   "cell_type": "markdown",
   "id": "conditional-modeling",
   "metadata": {},
   "source": [
    "Documentation du module Numpy : https://numpy.org/doc/"
   ]
  },
  {
   "cell_type": "markdown",
   "id": "communist-argument",
   "metadata": {},
   "source": [
    "Il faut **exécuter la cellule ci-dessous** pour pouvoir lancer les exemples dans ce notebook."
   ]
  },
  {
   "cell_type": "code",
   "execution_count": 3,
   "id": "instructional-penny",
   "metadata": {},
   "outputs": [],
   "source": [
    "import numpy as np"
   ]
  },
  {
   "cell_type": "markdown",
   "id": "domestic-alarm",
   "metadata": {},
   "source": [
    "### <center><u> II.1.1. Les index </u></center>"
   ]
  },
  {
   "cell_type": "markdown",
   "id": "crazy-affair",
   "metadata": {},
   "source": [
    "Commençons par instancier un **ndarray à 2 dimensions** que nous allons manipuler avec les index."
   ]
  },
  {
   "cell_type": "code",
   "execution_count": 6,
   "id": "oriental-communication",
   "metadata": {},
   "outputs": [
    {
     "name": "stdout",
     "output_type": "stream",
     "text": [
      "[[ 0  1  2  3  4]\n",
      " [ 5  6  7  8  9]\n",
      " [10 11 12 13 14]\n",
      " [15 16 17 18 19]]\n"
     ]
    }
   ],
   "source": [
    "matrice = np.array([[0,1,2,3,4], [5,6,7,8,9], [10, 11, 12, 13, 14], [15, 16, 17, 18, 19]])\n",
    "\n",
    "print(matrice)"
   ]
  },
  {
   "cell_type": "markdown",
   "id": "national-browser",
   "metadata": {},
   "source": [
    "La position du **premier indice** est égal à **0**. (On parle de 0-indexing.)\n",
    "\n",
    "Par conséquent, si on veut récupérer le premier élément de cette matrice, qui est le ndarray [0 1 2 3 4], il va falloir utiliser l'indice 0."
   ]
  },
  {
   "cell_type": "code",
   "execution_count": 12,
   "id": "competitive-mount",
   "metadata": {},
   "outputs": [
    {
     "name": "stdout",
     "output_type": "stream",
     "text": [
      "[0 1 2 3 4]\n"
     ]
    }
   ],
   "source": [
    "matrice = np.array([[0,1,2,3,4], [5,6,7,8,9], [10, 11, 12, 13, 14], [15, 16, 17, 18, 19]])\n",
    "print(matrice[0])"
   ]
  },
  {
   "cell_type": "markdown",
   "id": "judicial-transfer",
   "metadata": {},
   "source": [
    "Par ailleurs, on peut tester **le type de matrice[0]** et voir que c'est bien un **ndarray**."
   ]
  },
  {
   "cell_type": "code",
   "execution_count": 11,
   "id": "broke-cambridge",
   "metadata": {},
   "outputs": [
    {
     "name": "stdout",
     "output_type": "stream",
     "text": [
      "<class 'numpy.ndarray'>\n"
     ]
    }
   ],
   "source": [
    "matrice = np.array([[0,1,2,3,4], [5,6,7,8,9], [10, 11, 12, 13, 14], [15, 16, 17, 18, 19]])\n",
    "\n",
    "print(type(matrice[0]))"
   ]
  },
  {
   "cell_type": "markdown",
   "id": "annoying-trigger",
   "metadata": {},
   "source": [
    "### **Comment obtenir le premier élément du premier ndarray de la matrice définie ci-dessus?**"
   ]
  },
  {
   "cell_type": "code",
   "execution_count": 13,
   "id": "challenging-livestock",
   "metadata": {},
   "outputs": [
    {
     "name": "stdout",
     "output_type": "stream",
     "text": [
      "0\n"
     ]
    }
   ],
   "source": [
    "matrice = np.array([[0,1,2,3,4], [5,6,7,8,9], [10, 11, 12, 13, 14], [15, 16, 17, 18, 19]])\n",
    "\n",
    "print(matrice[0][0])"
   ]
  },
  {
   "cell_type": "markdown",
   "id": "palestinian-bullet",
   "metadata": {},
   "source": [
    "Si **matrice[0]** est un **ndarray**, alors pour obtenir son premier élément, il faut utiliser une deuxième fois l'indexing avec les crochets []. (Voir code ci-dessus)"
   ]
  },
  {
   "cell_type": "markdown",
   "id": "first-peter",
   "metadata": {},
   "source": [
    "### **Obtenir le troisième élément de la deuxième ligne de la matrice définie ci-dessus?**"
   ]
  },
  {
   "cell_type": "markdown",
   "id": "technological-preference",
   "metadata": {},
   "source": [
    "Si vous écrivez : **matrice[1][2]**, cela renverra le **3ème élément de la 2ème ligne**.\n",
    "\n",
    "On en conclue donc que **les premiers crochets nous permettent d'obtenir une ligne spécifique**, et les **seconds crochets nous permettent d'obtenir une colonne spécifique**."
   ]
  },
  {
   "cell_type": "code",
   "execution_count": 15,
   "id": "artificial-scientist",
   "metadata": {},
   "outputs": [
    {
     "name": "stdout",
     "output_type": "stream",
     "text": [
      "[[ 0  1  2  3  4]\n",
      " [ 5  6  7  8  9]\n",
      " [10 11 12 13 14]\n",
      " [15 16 17 18 19]]\n",
      "\n",
      "7\n"
     ]
    }
   ],
   "source": [
    "matrice = np.array([[0,1,2,3,4], [5,6,7,8,9], [10, 11, 12, 13, 14], [15, 16, 17, 18, 19]])\n",
    "\n",
    "print(matrice)\n",
    "print()\n",
    "print(matrice[1][2])"
   ]
  },
  {
   "cell_type": "markdown",
   "id": "mobile-issue",
   "metadata": {},
   "source": [
    "A la 2ème ligne, 3ème colonne, on a le **chiffre 7**."
   ]
  },
  {
   "cell_type": "markdown",
   "id": "latin-equipment",
   "metadata": {},
   "source": [
    "### Que se passe-t-il si on indique un index qui ne correspond à rien dans la matrice?"
   ]
  },
  {
   "cell_type": "markdown",
   "id": "scheduled-classics",
   "metadata": {},
   "source": [
    "La matrice ci-dessus possède **4 lignes**. Regardons ce qui se passe si on essaie d'afficher la **5ème ligne** (qui n'existe pas)."
   ]
  },
  {
   "cell_type": "code",
   "execution_count": 18,
   "id": "representative-ballot",
   "metadata": {},
   "outputs": [
    {
     "ename": "IndexError",
     "evalue": "index 5 is out of bounds for axis 0 with size 4",
     "output_type": "error",
     "traceback": [
      "\u001b[1;31m---------------------------------------------------------------------------\u001b[0m",
      "\u001b[1;31mIndexError\u001b[0m                                Traceback (most recent call last)",
      "\u001b[1;32m<ipython-input-18-810f89dcb2f6>\u001b[0m in \u001b[0;36m<module>\u001b[1;34m\u001b[0m\n\u001b[0;32m      1\u001b[0m \u001b[0mmatrice\u001b[0m \u001b[1;33m=\u001b[0m \u001b[0mnp\u001b[0m\u001b[1;33m.\u001b[0m\u001b[0marray\u001b[0m\u001b[1;33m(\u001b[0m\u001b[1;33m[\u001b[0m\u001b[1;33m[\u001b[0m\u001b[1;36m0\u001b[0m\u001b[1;33m,\u001b[0m\u001b[1;36m1\u001b[0m\u001b[1;33m,\u001b[0m\u001b[1;36m2\u001b[0m\u001b[1;33m,\u001b[0m\u001b[1;36m3\u001b[0m\u001b[1;33m,\u001b[0m\u001b[1;36m4\u001b[0m\u001b[1;33m]\u001b[0m\u001b[1;33m,\u001b[0m \u001b[1;33m[\u001b[0m\u001b[1;36m5\u001b[0m\u001b[1;33m,\u001b[0m\u001b[1;36m6\u001b[0m\u001b[1;33m,\u001b[0m\u001b[1;36m7\u001b[0m\u001b[1;33m,\u001b[0m\u001b[1;36m8\u001b[0m\u001b[1;33m,\u001b[0m\u001b[1;36m9\u001b[0m\u001b[1;33m]\u001b[0m\u001b[1;33m,\u001b[0m \u001b[1;33m[\u001b[0m\u001b[1;36m10\u001b[0m\u001b[1;33m,\u001b[0m \u001b[1;36m11\u001b[0m\u001b[1;33m,\u001b[0m \u001b[1;36m12\u001b[0m\u001b[1;33m,\u001b[0m \u001b[1;36m13\u001b[0m\u001b[1;33m,\u001b[0m \u001b[1;36m14\u001b[0m\u001b[1;33m]\u001b[0m\u001b[1;33m,\u001b[0m \u001b[1;33m[\u001b[0m\u001b[1;36m15\u001b[0m\u001b[1;33m,\u001b[0m \u001b[1;36m16\u001b[0m\u001b[1;33m,\u001b[0m \u001b[1;36m17\u001b[0m\u001b[1;33m,\u001b[0m \u001b[1;36m18\u001b[0m\u001b[1;33m,\u001b[0m \u001b[1;36m19\u001b[0m\u001b[1;33m]\u001b[0m\u001b[1;33m]\u001b[0m\u001b[1;33m)\u001b[0m\u001b[1;33m\u001b[0m\u001b[1;33m\u001b[0m\u001b[0m\n\u001b[0;32m      2\u001b[0m \u001b[1;33m\u001b[0m\u001b[0m\n\u001b[1;32m----> 3\u001b[1;33m \u001b[0mprint\u001b[0m\u001b[1;33m(\u001b[0m\u001b[0mmatrice\u001b[0m\u001b[1;33m[\u001b[0m\u001b[1;36m5\u001b[0m\u001b[1;33m]\u001b[0m\u001b[1;33m)\u001b[0m\u001b[1;33m\u001b[0m\u001b[1;33m\u001b[0m\u001b[0m\n\u001b[0m",
      "\u001b[1;31mIndexError\u001b[0m: index 5 is out of bounds for axis 0 with size 4"
     ]
    }
   ],
   "source": [
    "matrice = np.array([[0,1,2,3,4], [5,6,7,8,9], [10, 11, 12, 13, 14], [15, 16, 17, 18, 19]])\n",
    "\n",
    "print(matrice[5])"
   ]
  },
  {
   "cell_type": "markdown",
   "id": "maritime-haven",
   "metadata": {},
   "source": [
    "On obtient une erreur nommée **IndexError**, qui nous indique que nous avons donné **un indice hors-limite**."
   ]
  },
  {
   "cell_type": "markdown",
   "id": "introductory-separate",
   "metadata": {},
   "source": [
    "### Il existe une autre façon d'accéder à un élément dans un ndarray"
   ]
  },
  {
   "cell_type": "markdown",
   "id": "later-estate",
   "metadata": {},
   "source": [
    "Au lieu d'utiliser des double crochets [][] pour accéder à un élément dans un **ndarray à 2 dimensions**, on peut utiliser cette écriture : **[num_ligne, num_colone]**"
   ]
  },
  {
   "cell_type": "code",
   "execution_count": 22,
   "id": "animated-cornwall",
   "metadata": {},
   "outputs": [
    {
     "name": "stdout",
     "output_type": "stream",
     "text": [
      "7\n"
     ]
    }
   ],
   "source": [
    "matrice = np.array([[0,1,2,3,4], [5,6,7,8,9], [10, 11, 12, 13, 14], [15, 16, 17, 18, 19]])\n",
    "\n",
    "print(matrice[1,2])"
   ]
  },
  {
   "cell_type": "markdown",
   "id": "infinite-london",
   "metadata": {},
   "source": [
    "**matrice[1,2]** affiche l'élément à la deuxième ligne et à la troisième colonne."
   ]
  },
  {
   "cell_type": "markdown",
   "id": "complex-donor",
   "metadata": {},
   "source": [
    "### <center><u> II.1.2. Les index négatifs </u></center>"
   ]
  },
  {
   "cell_type": "markdown",
   "id": "environmental-video",
   "metadata": {},
   "source": [
    "Créons **un vecteur** composé de **10 éléments**."
   ]
  },
  {
   "cell_type": "code",
   "execution_count": 24,
   "id": "solar-median",
   "metadata": {},
   "outputs": [
    {
     "name": "stdout",
     "output_type": "stream",
     "text": [
      "[ 1  2  3  4  5  6  7  8  9 10]\n"
     ]
    }
   ],
   "source": [
    "vecteur = np.array([1,2,3,4,5,6,7,8,9,10])\n",
    "print(vecteur)"
   ]
  },
  {
   "cell_type": "markdown",
   "id": "occupied-condition",
   "metadata": {},
   "source": [
    "Il est possible d'atteindre le dernier élément de ce vecteur en utilisant l'index **-1**."
   ]
  },
  {
   "cell_type": "code",
   "execution_count": 25,
   "id": "smooth-french",
   "metadata": {},
   "outputs": [
    {
     "data": {
      "text/plain": [
       "10"
      ]
     },
     "execution_count": 25,
     "metadata": {},
     "output_type": "execute_result"
    }
   ],
   "source": [
    "vecteur = np.array([1,2,3,4,5,6,7,8,9,10])\n",
    "\n",
    "vecteur[-1]"
   ]
  },
  {
   "cell_type": "markdown",
   "id": "extended-tulsa",
   "metadata": {},
   "source": [
    "On obtient bien le nombre 10, qui est le dernier élément de la variable vecteur."
   ]
  },
  {
   "cell_type": "markdown",
   "id": "decent-facility",
   "metadata": {},
   "source": [
    "### Les **indices négatifs** commencent à **l'index -1**."
   ]
  },
  {
   "cell_type": "markdown",
   "id": "upset-antenna",
   "metadata": {},
   "source": [
    "Voici comment cela fonctionne :\n",
    "    \n",
    "**[-1]** : dernier élément\n",
    "    \n",
    "**[-2]** : avant-dernier élément\n",
    "    \n",
    "**[-3]** : 3ème élément en partant de la fin\n",
    "    \n",
    "etc... etc...\n",
    "\n",
    "Bien entendu, ces éléments doivent exister, sinon cela lèvera l'erreur IndexError."
   ]
  },
  {
   "cell_type": "markdown",
   "id": "mobile-ranch",
   "metadata": {},
   "source": [
    "### Obtenir le 4ème élément en partant de la fin"
   ]
  },
  {
   "cell_type": "code",
   "execution_count": 26,
   "id": "conscious-cleaning",
   "metadata": {},
   "outputs": [
    {
     "data": {
      "text/plain": [
       "7"
      ]
     },
     "execution_count": 26,
     "metadata": {},
     "output_type": "execute_result"
    }
   ],
   "source": [
    "vecteur = np.array([1,2,3,4,5,6,7,8,9,10])\n",
    "\n",
    "vecteur[-4]"
   ]
  },
  {
   "cell_type": "markdown",
   "id": "convinced-aside",
   "metadata": {},
   "source": [
    "Le **4ème élément** en partant de la fin est bien le **chiffre 7**."
   ]
  },
  {
   "cell_type": "markdown",
   "id": "cognitive-police",
   "metadata": {},
   "source": [
    "### Cela marche aussi avec les matrices, bien entendu"
   ]
  },
  {
   "cell_type": "code",
   "execution_count": 27,
   "id": "understanding-option",
   "metadata": {},
   "outputs": [
    {
     "data": {
      "text/plain": [
       "array([5, 6])"
      ]
     },
     "execution_count": 27,
     "metadata": {},
     "output_type": "execute_result"
    }
   ],
   "source": [
    "matrice = np.array([[1,2], [3,4], [5,6]])\n",
    "\n",
    "matrice[-1]"
   ]
  },
  {
   "cell_type": "markdown",
   "id": "located-formula",
   "metadata": {},
   "source": [
    "Ici, on a récupéré **la dernière ligne de la variable matrice**."
   ]
  },
  {
   "cell_type": "markdown",
   "id": "communist-agent",
   "metadata": {},
   "source": [
    "### <center><u> II.1.3. Slicing </u></center>"
   ]
  },
  {
   "cell_type": "markdown",
   "id": "defined-creation",
   "metadata": {},
   "source": [
    "Jusque là, **nous nous sommes servis des index pour récupérer un élément particulier**. Cet élément pouvant être un ndarray à 0 ou 1 dimension.\n",
    "\n",
    "Il est possible avec le slicing de récupérer des matrices.\n",
    "\n",
    "Prenons une matrice de taille (5x4) -> 5 lignes, 4 colonnes"
   ]
  },
  {
   "cell_type": "code",
   "execution_count": 30,
   "id": "norwegian-burden",
   "metadata": {},
   "outputs": [
    {
     "name": "stdout",
     "output_type": "stream",
     "text": [
      "[[ 0  1  2  3]\n",
      " [ 4  5  6  7]\n",
      " [ 8  9 10 11]\n",
      " [12 13 14 15]\n",
      " [16 17 18 19]]\n"
     ]
    }
   ],
   "source": [
    "matrice = np.array([[0,1,2,3], [4,5,6,7], [8,9,10, 11], [12, 13, 14, 15], [16,17,18,19]])\n",
    "\n",
    "print(matrice)"
   ]
  },
  {
   "cell_type": "markdown",
   "id": "bacterial-moldova",
   "metadata": {},
   "source": [
    "### <center><u>II.1.3.1. Récupérer les colonnes 2 et 3 de toutes les lignes</u><center>"
   ]
  },
  {
   "cell_type": "markdown",
   "id": "sticky-cardiff",
   "metadata": {},
   "source": [
    "Jusqu'ici, vous êtes capable de récupérer la n-ème ligne ou le m-ème élément de la n-ème ligne. Mais vous ne savez pas encore comment récupérer tous les éléments à la colonne 2 et 3 de chaque ligne.\n",
    "\n",
    "Pour répondre à cette problématique, on va utiliser une méthode que l'on appelle le **slicing**. On l'utilise comme ceci : **[indice_debut: indice_fin]**. Cela va récupérer tous les éléments **allant de l'indice de début, jusqu'à l'indice de fin (exclus)**."
   ]
  },
  {
   "cell_type": "code",
   "execution_count": 36,
   "id": "front-recognition",
   "metadata": {},
   "outputs": [
    {
     "data": {
      "text/plain": [
       "array([[ 2,  3],\n",
       "       [ 6,  7],\n",
       "       [10, 11],\n",
       "       [14, 15],\n",
       "       [18, 19]])"
      ]
     },
     "execution_count": 36,
     "metadata": {},
     "output_type": "execute_result"
    }
   ],
   "source": [
    "matrice = np.array([[0,1,2,3], [4,5,6,7], [8,9,10, 11], [12, 13, 14, 15], [16,17,18,19]])\n",
    "\n",
    "matrice[:,2:4]"
   ]
  },
  {
   "cell_type": "markdown",
   "id": "permanent-spectacular",
   "metadata": {},
   "source": [
    "Dans l'exemple ci-dessus, on récupère les colonnes 2 et 3 de toutes les lignes.\n",
    "\n",
    "Le **:** à **gauche de la virgule**, indique que l'on désire récupérer les **5 lignes**.\n",
    "\n",
    "Le **2:4** à **droite de la virgule**, indique que l'on désire récupérer **les colonnes 2 à 4 (exclus)** donc les colonnes 2 et 3.\n",
    "\n",
    "Au final, cela nous donne un ndarray de taille : 5x2 (5 lignes et 2 colonnes)"
   ]
  },
  {
   "cell_type": "markdown",
   "id": "burning-concert",
   "metadata": {},
   "source": [
    "### <center><u>II.1.3.2. Récupérer les trois dernières colonnes des trois dernières lignes</u><center>"
   ]
  },
  {
   "cell_type": "code",
   "execution_count": 39,
   "id": "fitting-infrared",
   "metadata": {},
   "outputs": [
    {
     "data": {
      "text/plain": [
       "array([[ 9, 10, 11],\n",
       "       [13, 14, 15],\n",
       "       [17, 18, 19]])"
      ]
     },
     "execution_count": 39,
     "metadata": {},
     "output_type": "execute_result"
    }
   ],
   "source": [
    "matrice = np.array([[0,1,2,3], [4,5,6,7], [8,9,10, 11], [12, 13, 14, 15], [16,17,18,19]])\n",
    "\n",
    "matrice[2:5, 1:4]"
   ]
  },
  {
   "cell_type": "markdown",
   "id": "numeric-ivory",
   "metadata": {},
   "source": [
    "**Il n'est pas obligé d'indiquer l'index de fin quand on prend toute la fin d'un élément!**"
   ]
  },
  {
   "cell_type": "code",
   "execution_count": 40,
   "id": "immediate-reasoning",
   "metadata": {},
   "outputs": [
    {
     "data": {
      "text/plain": [
       "array([[ 9, 10, 11],\n",
       "       [13, 14, 15],\n",
       "       [17, 18, 19]])"
      ]
     },
     "execution_count": 40,
     "metadata": {},
     "output_type": "execute_result"
    }
   ],
   "source": [
    "matrice = np.array([[0,1,2,3], [4,5,6,7], [8,9,10, 11], [12, 13, 14, 15], [16,17,18,19]])\n",
    "\n",
    "matrice[2:, 1:]"
   ]
  },
  {
   "cell_type": "markdown",
   "id": "coupled-insider",
   "metadata": {},
   "source": [
    "### <center><u>II.1.3.3. Récupérer la première colonne de la deuxième, troisième et quatrième lignes</u></center>"
   ]
  },
  {
   "cell_type": "code",
   "execution_count": 42,
   "id": "demonstrated-arctic",
   "metadata": {},
   "outputs": [
    {
     "data": {
      "text/plain": [
       "array([ 4,  8, 12])"
      ]
     },
     "execution_count": 42,
     "metadata": {},
     "output_type": "execute_result"
    }
   ],
   "source": [
    "matrice = np.array([[0,1,2,3], [4,5,6,7], [8,9,10, 11], [12, 13, 14, 15], [16,17,18,19]])\n",
    "\n",
    "matrice[1:4, 0]"
   ]
  },
  {
   "cell_type": "markdown",
   "id": "peaceful-incidence",
   "metadata": {},
   "source": [
    "### <center><u> II.1.3.4. Cela marche aussi avec les vecteurs</u></center>"
   ]
  },
  {
   "cell_type": "markdown",
   "id": "white-balance",
   "metadata": {},
   "source": [
    "Admettons que l'on veut les **4 derniers éléments du vecteur suivant**."
   ]
  },
  {
   "cell_type": "code",
   "execution_count": 46,
   "id": "dramatic-compensation",
   "metadata": {},
   "outputs": [
    {
     "data": {
      "text/plain": [
       "array([11, 12, 13, 14])"
      ]
     },
     "execution_count": 46,
     "metadata": {},
     "output_type": "execute_result"
    }
   ],
   "source": [
    "vecteur = np.array([1,2,3,4,5,6,7,8,9,10,11,12,13,14])\n",
    "\n",
    "vecteur[10:15]"
   ]
  },
  {
   "cell_type": "markdown",
   "id": "shaped-monthly",
   "metadata": {},
   "source": [
    "On aurait aussi pu utiliser **les index négatifs**, ce qui est dans ce cas, plus lisible."
   ]
  },
  {
   "cell_type": "code",
   "execution_count": 47,
   "id": "blond-schedule",
   "metadata": {},
   "outputs": [
    {
     "data": {
      "text/plain": [
       "array([11, 12, 13, 14])"
      ]
     },
     "execution_count": 47,
     "metadata": {},
     "output_type": "execute_result"
    }
   ],
   "source": [
    "vecteur = np.array([1,2,3,4,5,6,7,8,9,10,11,12,13,14])\n",
    "\n",
    "vecteur[-4:]"
   ]
  },
  {
   "cell_type": "markdown",
   "id": "iraqi-protocol",
   "metadata": {},
   "source": [
    "### <center><u> II.1.3.5. Le pas</u></center>"
   ]
  },
  {
   "cell_type": "markdown",
   "id": "animal-newsletter",
   "metadata": {},
   "source": [
    "On peut indiquer un pas pour prendre un élément tous les x index.\n",
    "\n",
    "Cela s'écrit : **[indice_debut:indice_fin:pas]**\n",
    "\n",
    "Pour la démonstration, on va réutiliser le vecteur précédent et récupérer tous les éléments à des indices pairs."
   ]
  },
  {
   "cell_type": "code",
   "execution_count": 56,
   "id": "qualified-firmware",
   "metadata": {},
   "outputs": [
    {
     "data": {
      "text/plain": [
       "array([ 1,  3,  5,  7,  9, 11, 13])"
      ]
     },
     "execution_count": 56,
     "metadata": {},
     "output_type": "execute_result"
    }
   ],
   "source": [
    "vecteur = np.array([1,2,3,4,5,6,7,8,9,10,11,12,13,14])\n",
    "\n",
    "vecteur[::2]"
   ]
  },
  {
   "cell_type": "markdown",
   "id": "baking-rachel",
   "metadata": {},
   "source": [
    "On récupère bien les éléments à l'indice : 0, 2, 4, 6, 8, 10, 12.\n",
    "\n",
    "Le **premier double-point :** indique qu'on veut travailler sur **l'entièreté du vecteur**.\n",
    "    \n",
    "Le **:2 indique qu'on veut récupérer les éléments tous les 2 indices**. Comme on commence à l'indice 0, cela récupère tous les éléments aux indices pairs."
   ]
  },
  {
   "cell_type": "markdown",
   "id": "suited-bosnia",
   "metadata": {},
   "source": [
    "### Autre exemple : récupérer tous les éléments aux indices impairs"
   ]
  },
  {
   "cell_type": "code",
   "execution_count": 55,
   "id": "prescribed-macintosh",
   "metadata": {},
   "outputs": [
    {
     "data": {
      "text/plain": [
       "array([ 2,  4,  6,  8, 10, 12, 14])"
      ]
     },
     "execution_count": 55,
     "metadata": {},
     "output_type": "execute_result"
    }
   ],
   "source": [
    "vecteur = np.array([1,2,3,4,5,6,7,8,9,10,11,12,13,14])\n",
    "\n",
    "vecteur[1::2]"
   ]
  },
  {
   "cell_type": "markdown",
   "id": "strategic-safety",
   "metadata": {},
   "source": [
    "Cette fois-ci, **on démarre à l'index 1** (donc au deuxième élément), et on **parcourt le ndarray de 2 en 2**, récupérant tous les éléments aux **indices impairs**."
   ]
  },
  {
   "cell_type": "markdown",
   "id": "engaging-protest",
   "metadata": {},
   "source": [
    "A suivre avec le cours : Preprocessing Data with NumPy : 3.2"
   ]
  },
  {
   "cell_type": "markdown",
   "id": "tropical-voice",
   "metadata": {},
   "source": [
    "# <center>II.2. Assigner des valeurs</center>"
   ]
  },
  {
   "cell_type": "markdown",
   "id": "gentle-pharmaceutical",
   "metadata": {},
   "source": [
    "### <center><u>II.2.1. Changer un seul élément dans un vecteur</u></center>"
   ]
  },
  {
   "cell_type": "markdown",
   "id": "early-permission",
   "metadata": {},
   "source": [
    "Pour **assigner une valeur à un élément** à un index spécifique d'un vecteur, on peut utiliser l'écriture suivante."
   ]
  },
  {
   "cell_type": "code",
   "execution_count": 4,
   "id": "illegal-circular",
   "metadata": {},
   "outputs": [
    {
     "name": "stdout",
     "output_type": "stream",
     "text": [
      "[1 2 3]\n",
      "[ 1  2 10]\n"
     ]
    }
   ],
   "source": [
    "vecteur = np.array([1,2,3])\n",
    "print(vecteur)\n",
    "\n",
    "vecteur[-1] = 10\n",
    "print(vecteur)"
   ]
  },
  {
   "cell_type": "markdown",
   "id": "sacred-gabriel",
   "metadata": {},
   "source": [
    "Dans l'exemple ci-dessus, **nous avons assigné la valeur 10** au dernier élément du vecteur, qui contenait précédemment la valeur 3.\n",
    "\n",
    "On va prendre un deuxième exemple et changer toutes les valeurs d'un vecteur une par une grâce aux indices."
   ]
  },
  {
   "cell_type": "code",
   "execution_count": 5,
   "id": "compressed-jewel",
   "metadata": {},
   "outputs": [
    {
     "name": "stdout",
     "output_type": "stream",
     "text": [
      "[1 2 3 4 5]\n",
      "[5 4 3 2 1]\n"
     ]
    }
   ],
   "source": [
    "vecteur = np.array([1,2,3,4,5])\n",
    "print(vecteur)\n",
    "\n",
    "vecteur[0] = 5\n",
    "vecteur[1] = 4\n",
    "vecteur[2] = 3\n",
    "vecteur[3] = 2\n",
    "vecteur[4] = 1\n",
    "print(vecteur)"
   ]
  },
  {
   "cell_type": "markdown",
   "id": "empirical-flush",
   "metadata": {},
   "source": [
    "Nous avons changé **toutes les valeurs du np.array** à 1 dimension qui est passé de [1,2,3,4,5] à [5,4,3,2,1]."
   ]
  },
  {
   "cell_type": "markdown",
   "id": "alpine-intersection",
   "metadata": {},
   "source": [
    "### <center><u>II.2.2. Changer un seul élément dans une matrice</u></center>"
   ]
  },
  {
   "cell_type": "markdown",
   "id": "introductory-gibraltar",
   "metadata": {},
   "source": [
    "Prenons pour exemple **une matrice de dimension 4x3** (4 lignes et 3 colonnes), et changeons la valeur de l'élément à la **deuxième ligne** et à la **troisième colonne**."
   ]
  },
  {
   "cell_type": "code",
   "execution_count": 7,
   "id": "healthy-medicare",
   "metadata": {},
   "outputs": [
    {
     "name": "stdout",
     "output_type": "stream",
     "text": [
      "[[ 1  2  3]\n",
      " [ 4  5  6]\n",
      " [ 7  8  9]\n",
      " [10 11 12]]\n",
      "\n",
      "[[ 1  2  3]\n",
      " [ 4  5 10]\n",
      " [ 7  8  9]\n",
      " [10 11 12]]\n"
     ]
    }
   ],
   "source": [
    "matrice = np.array([[1,2,3], [4,5,6], [7,8,9], [10,11,12]])\n",
    "print(matrice)\n",
    "print()\n",
    "\n",
    "matrice[1,2] = 10\n",
    "print(matrice)"
   ]
  },
  {
   "cell_type": "markdown",
   "id": "racial-hayes",
   "metadata": {},
   "source": [
    "La deuxième ligne, c'est la ligne à l'indice 1 et la troisième colonne, c'est la colonne à l'indice 2. Nous avons changé la valeur 6 par la valeur 10."
   ]
  },
  {
   "cell_type": "markdown",
   "id": "medium-provider",
   "metadata": {},
   "source": [
    "Prenons un deuxième exemple et changeons toutes les valeurs d'une **matrice de dimension 2x2**."
   ]
  },
  {
   "cell_type": "code",
   "execution_count": 8,
   "id": "guided-austin",
   "metadata": {},
   "outputs": [
    {
     "name": "stdout",
     "output_type": "stream",
     "text": [
      "[[4 3]\n",
      " [2 1]]\n",
      "\n",
      "[[1 2]\n",
      " [3 4]]\n"
     ]
    }
   ],
   "source": [
    "matrice = np.array([[4,3], [2,1]])\n",
    "print(matrice)\n",
    "print()\n",
    "\n",
    "matrice[0,0] = 1\n",
    "matrice[0,1] = 2\n",
    "matrice[1,0] = 3\n",
    "matrice[1,1] = 4\n",
    "print(matrice)"
   ]
  },
  {
   "cell_type": "markdown",
   "id": "eastern-jesus",
   "metadata": {},
   "source": [
    "### <center><u>II.2.3. Changer les lignes d'une matrice</u></center>"
   ]
  },
  {
   "cell_type": "markdown",
   "id": "behind-wednesday",
   "metadata": {},
   "source": [
    "#### <center><u>II.2.3.1. Affecter une même valeur à toute une ligne </u></center>"
   ]
  },
  {
   "cell_type": "markdown",
   "id": "divine-christopher",
   "metadata": {},
   "source": [
    "Prenons la matrice suivante de **dimension 5x3**. Changer l'intégralité de la **première ligne** pour lui **attribuer la valeur 0** à **toutes ses colonnes**."
   ]
  },
  {
   "cell_type": "code",
   "execution_count": 9,
   "id": "conventional-valley",
   "metadata": {},
   "outputs": [
    {
     "name": "stdout",
     "output_type": "stream",
     "text": [
      "[[ 10  11  12]\n",
      " [ -6  -5  -4]\n",
      " [  1   2   3]\n",
      " [100 108 402]\n",
      " [121 323 454]]\n",
      "\n",
      "[[  0   0   0]\n",
      " [ -6  -5  -4]\n",
      " [  1   2   3]\n",
      " [100 108 402]\n",
      " [121 323 454]]\n"
     ]
    }
   ],
   "source": [
    "matrice = np.array([[10,11,12], [-6,-5,-4], [1,2,3], [100, 108, 402], [121, 323, 454]])\n",
    "print(matrice)\n",
    "print()\n",
    "\n",
    "matrice[0] = 0\n",
    "print(matrice)"
   ]
  },
  {
   "cell_type": "markdown",
   "id": "sacred-louisiana",
   "metadata": {},
   "source": [
    "**Toutes les valeurs de la première ligne sont devenues des zéros**."
   ]
  },
  {
   "cell_type": "markdown",
   "id": "secondary-invention",
   "metadata": {},
   "source": [
    "#### <center><u>II.2.3.2. Affecter un vecteur ou une liste à une ligne de matrice </u></center>"
   ]
  },
  {
   "cell_type": "markdown",
   "id": "challenging-spring",
   "metadata": {},
   "source": [
    "Reprenons la même matrice, et assignons lui les valeurs de la deuxième ligne à la première ligne."
   ]
  },
  {
   "cell_type": "code",
   "execution_count": 11,
   "id": "sharing-attribute",
   "metadata": {},
   "outputs": [
    {
     "name": "stdout",
     "output_type": "stream",
     "text": [
      "[[ 10  11  12]\n",
      " [ -6  -5  -4]\n",
      " [  1   2   3]\n",
      " [100 108 402]\n",
      " [121 323 454]]\n",
      "\n",
      "[[ -6  -5  -4]\n",
      " [ -6  -5  -4]\n",
      " [  1   2   3]\n",
      " [100 108 402]\n",
      " [121 323 454]]\n"
     ]
    }
   ],
   "source": [
    "matrice = np.array([[10,11,12], [-6,-5,-4], [1,2,3], [100, 108, 402], [121, 323, 454]])\n",
    "print(matrice)\n",
    "print()\n",
    "\n",
    "matrice[0] = matrice[1]\n",
    "print(matrice)"
   ]
  },
  {
   "cell_type": "markdown",
   "id": "medical-bradford",
   "metadata": {},
   "source": [
    "Les **valeurs de la première ligne sont égales aux valeurs de la deuxième ligne**."
   ]
  },
  {
   "cell_type": "markdown",
   "id": "scientific-faith",
   "metadata": {},
   "source": [
    "On peut également assigner les valeurs contenus dans une liste à une ligne."
   ]
  },
  {
   "cell_type": "code",
   "execution_count": 16,
   "id": "charged-appointment",
   "metadata": {},
   "outputs": [
    {
     "name": "stdout",
     "output_type": "stream",
     "text": [
      "[[ 10  11  12]\n",
      " [ -6  -5  -4]\n",
      " [  1   2   3]\n",
      " [100 108 402]\n",
      " [121 323 454]]\n",
      "\n",
      "[[ -3  -2  -1]\n",
      " [ -6  -5  -4]\n",
      " [  1   2   3]\n",
      " [100 108 402]\n",
      " [121 323 454]]\n"
     ]
    }
   ],
   "source": [
    "matrice = np.array([[10,11,12], [-6,-5,-4], [1,2,3], [100, 108, 402], [121, 323, 454]])\n",
    "print(matrice)\n",
    "print()\n",
    "\n",
    "matrice[0] = [-3, -2, -1]\n",
    "print(matrice)"
   ]
  },
  {
   "cell_type": "markdown",
   "id": "tough-earthquake",
   "metadata": {},
   "source": [
    "Ici, nous avons affecté les valeurs de la liste [-3, -2, -1] à la première ligne de notre matrice."
   ]
  },
  {
   "cell_type": "markdown",
   "id": "thermal-trinidad",
   "metadata": {},
   "source": [
    "### <center><u>II.2.4. Changer les colonnes d'une matrice</u></center>"
   ]
  },
  {
   "cell_type": "markdown",
   "id": "catholic-catalyst",
   "metadata": {},
   "source": [
    "#### <center><u>II.2.4.1. Affecter une même valeur à toute une colonne </u></center>"
   ]
  },
  {
   "cell_type": "markdown",
   "id": "short-diana",
   "metadata": {},
   "source": [
    "Reprenons la même matrice que dans l'exemple précédent et changeons sa dernière colonne pour qu'elle ne contienne que des zéros."
   ]
  },
  {
   "cell_type": "code",
   "execution_count": 13,
   "id": "ecological-terrain",
   "metadata": {},
   "outputs": [
    {
     "name": "stdout",
     "output_type": "stream",
     "text": [
      "[[ 10  11  12]\n",
      " [ -6  -5  -4]\n",
      " [  1   2   3]\n",
      " [100 108 402]\n",
      " [121 323 454]]\n",
      "\n",
      "[[ 10  11   0]\n",
      " [ -6  -5   0]\n",
      " [  1   2   0]\n",
      " [100 108   0]\n",
      " [121 323   0]]\n"
     ]
    }
   ],
   "source": [
    "matrice = np.array([[10,11,12], [-6,-5,-4], [1,2,3], [100, 108, 402], [121, 323, 454]])\n",
    "print(matrice)\n",
    "print()\n",
    "\n",
    "matrice[:,-1] = 0\n",
    "print(matrice)"
   ]
  },
  {
   "cell_type": "markdown",
   "id": "everyday-discretion",
   "metadata": {},
   "source": [
    "Remarquez bien l'écriture : on a indiqué entre crochets **[:,-1]**, ce qui signifie que l'on veut **récupérer toutes les lignes d'une colonne donnée**. En l'occurence, la dernière colonne (Rappel : l'index -1 récupère le dernier élément)"
   ]
  },
  {
   "cell_type": "markdown",
   "id": "guilty-daughter",
   "metadata": {},
   "source": [
    "#### <center><u>II.2.3.2. Affecter un vecteur ou une liste à une colonne d'une matrice </u></center>"
   ]
  },
  {
   "cell_type": "markdown",
   "id": "tamil-hollow",
   "metadata": {},
   "source": [
    "On va réutiliser **la matrice précédente** et lui affecter à sa deuxième colonne **les valeurs [1,2,3,4,5]**."
   ]
  },
  {
   "cell_type": "code",
   "execution_count": 18,
   "id": "specialized-leeds",
   "metadata": {},
   "outputs": [
    {
     "name": "stdout",
     "output_type": "stream",
     "text": [
      "[[ 10  11  12]\n",
      " [ -6  -5  -4]\n",
      " [  1   2   3]\n",
      " [100 108 402]\n",
      " [121 323 454]]\n",
      "\n",
      "[[ 10   1  12]\n",
      " [ -6   2  -4]\n",
      " [  1   3   3]\n",
      " [100   4 402]\n",
      " [121   5 454]]\n"
     ]
    }
   ],
   "source": [
    "matrice = np.array([[10,11,12], [-6,-5,-4], [1,2,3], [100, 108, 402], [121, 323, 454]])\n",
    "print(matrice)\n",
    "print()\n",
    "\n",
    "matrice[:,1] = [1,2,3,4,5]\n",
    "print(matrice)"
   ]
  },
  {
   "cell_type": "markdown",
   "id": "difficult-merchant",
   "metadata": {},
   "source": [
    "On peut également affecter les valeurs d'un vecteur à une colonne."
   ]
  },
  {
   "cell_type": "code",
   "execution_count": 20,
   "id": "catholic-austria",
   "metadata": {},
   "outputs": [
    {
     "name": "stdout",
     "output_type": "stream",
     "text": [
      "[[ 10  11  12]\n",
      " [ -6  -5  -4]\n",
      " [  1   2   3]\n",
      " [100 108 402]\n",
      " [121 323 454]]\n",
      "\n",
      "[[ 10   1  12]\n",
      " [ -6   2  -4]\n",
      " [  1   3   3]\n",
      " [100   4 402]\n",
      " [121   5 454]]\n"
     ]
    }
   ],
   "source": [
    "matrice = np.array([[10,11,12], [-6,-5,-4], [1,2,3], [100, 108, 402], [121, 323, 454]])\n",
    "print(matrice)\n",
    "print()\n",
    "\n",
    "matrice[:,1] = np.array([1,2,3,4,5])\n",
    "print(matrice)"
   ]
  },
  {
   "cell_type": "markdown",
   "id": "smaller-medication",
   "metadata": {},
   "source": [
    "Dans ce cas, il est tout de même **plus rapide à écrire et plus lisible** d'affecter une liste plutôt qu'un vecteur ndarray."
   ]
  },
  {
   "cell_type": "markdown",
   "id": "detailed-participation",
   "metadata": {},
   "source": [
    "**INFO** : la colonne ou la ligne qui se voit affecter une liste reste des ndarray. On peut le prouver en regardant le type de la ligne ou de la colonne."
   ]
  },
  {
   "cell_type": "code",
   "execution_count": 21,
   "id": "dedicated-treasure",
   "metadata": {},
   "outputs": [
    {
     "name": "stdout",
     "output_type": "stream",
     "text": [
      "[[ 10  11  12]\n",
      " [ -6  -5  -4]\n",
      " [  1   2   3]\n",
      " [100 108 402]\n",
      " [121 323 454]]\n",
      "\n",
      "<class 'numpy.ndarray'>\n"
     ]
    }
   ],
   "source": [
    "matrice = np.array([[10,11,12], [-6,-5,-4], [1,2,3], [100, 108, 402], [121, 323, 454]])\n",
    "print(matrice)\n",
    "print()\n",
    "\n",
    "matrice[:,1] = [1,2,3,4,5]\n",
    "print(type(matrice[:,1]))"
   ]
  },
  {
   "cell_type": "markdown",
   "id": "derived-championship",
   "metadata": {},
   "source": [
    "### <center><u>II.2.5. Changer toutes les valeurs d'une matrice</u></center>"
   ]
  },
  {
   "cell_type": "markdown",
   "id": "valued-discretion",
   "metadata": {},
   "source": [
    "La matrice suivant est une **matrice de dimension 2x3**, et on va affecter à **tous ses éléments la valeur 404**."
   ]
  },
  {
   "cell_type": "code",
   "execution_count": 23,
   "id": "dressed-hollow",
   "metadata": {},
   "outputs": [
    {
     "name": "stdout",
     "output_type": "stream",
     "text": [
      "[[1 2 3]\n",
      " [4 5 6]]\n",
      "\n",
      "[[404 404 404]\n",
      " [404 404 404]]\n"
     ]
    }
   ],
   "source": [
    "matrice = np.array([[1,2,3], [4,5,6]])\n",
    "print(matrice)\n",
    "print()\n",
    "\n",
    "matrice[:] = 404\n",
    "print(matrice)"
   ]
  },
  {
   "cell_type": "markdown",
   "id": "passing-violence",
   "metadata": {},
   "source": [
    "**ATTENTION** : **les crochets avec les double-points [:] sont indispensables pour assigner toutes les valeurs à votre ndarray**! Si vous essayez d'affecter une valeur à votre ndarray sans ceux-ci, alors votre variable va devenir un int (nombre entier)."
   ]
  },
  {
   "cell_type": "code",
   "execution_count": 24,
   "id": "wrong-guest",
   "metadata": {},
   "outputs": [
    {
     "name": "stdout",
     "output_type": "stream",
     "text": [
      "[[1 2 3]\n",
      " [4 5 6]]\n",
      "\n",
      "404\n",
      "<class 'int'>\n"
     ]
    }
   ],
   "source": [
    "matrice = np.array([[1,2,3], [4,5,6]])\n",
    "print(matrice)\n",
    "print()\n",
    "\n",
    "matrice = 404\n",
    "print(matrice)\n",
    "print(type(matrice))"
   ]
  },
  {
   "cell_type": "markdown",
   "id": "generic-bikini",
   "metadata": {},
   "source": [
    "### <center><u>II.2.6. Affecter des valeurs avec le slicing</u></center>"
   ]
  },
  {
   "cell_type": "markdown",
   "id": "gentle-value",
   "metadata": {},
   "source": [
    "Admettons que nous ayons une **matrice 5x5**, et que nous voulons seulement affecter la valeur 0 aux éléments aux **colonnes 2 et 3**, et aux **lignes 2 et 3**. Au lieu d'affecter ces éléments un à un, on peut utiliser le **slicing**."
   ]
  },
  {
   "cell_type": "code",
   "execution_count": 42,
   "id": "earlier-makeup",
   "metadata": {},
   "outputs": [
    {
     "name": "stdout",
     "output_type": "stream",
     "text": [
      "[[ 1  2  3  4  5]\n",
      " [ 6  7  8  9 10]\n",
      " [11 12  0  0 15]\n",
      " [16 17  0  0 20]\n",
      " [21 22 23 24 25]]\n"
     ]
    }
   ],
   "source": [
    "matrice = np.array([[1,2,3,4,5],\n",
    "                  [6,7,8,9,10],\n",
    "                  [11,12,13,14,15],\n",
    "                  [16,17,18,19,20],\n",
    "                  [21,22,23,24,25]])\n",
    "\n",
    "matrice[2:4, 2:4] = 0\n",
    "print(matrice)"
   ]
  },
  {
   "cell_type": "markdown",
   "id": "contemporary-handle",
   "metadata": {},
   "source": [
    "Comme vous pouvez le voir dans l'exemple ci-dessus, les éléments dont les indices des lignes et des colonnes sont 2 ou 3 se sont vus affecter la valeur 0.\n",
    "\n",
    "**matrice[2:4, 2:4] signifie : les éléments allant de la ligne 2 à la ligne 4 exclue, et les éléments de la colonne 2 à la colonne 4 exclue**.\n",
    "\n",
    "Rappel : les index commencent à zéro. Donc la ligne 2 = troisième ligne."
   ]
  },
  {
   "cell_type": "markdown",
   "id": "vital-douglas",
   "metadata": {},
   "source": [
    "Prenons un autre exemple avec la même matrice, mais cette fois on veut affecter **la valeur 0** aux **deux dernières colonnes, première ligne exclue**."
   ]
  },
  {
   "cell_type": "code",
   "execution_count": 43,
   "id": "accurate-albania",
   "metadata": {},
   "outputs": [
    {
     "name": "stdout",
     "output_type": "stream",
     "text": [
      "[[ 1  2  3  4  5]\n",
      " [ 6  7  8  0  0]\n",
      " [11 12 13  0  0]\n",
      " [16 17 18  0  0]\n",
      " [21 22 23  0  0]]\n"
     ]
    }
   ],
   "source": [
    "matrice = np.array([[1,2,3,4,5],\n",
    "                  [6,7,8,9,10],\n",
    "                  [11,12,13,14,15],\n",
    "                  [16,17,18,19,20],\n",
    "                  [21,22,23,24,25]])\n",
    "\n",
    "matrice[1:, -2:] = 0\n",
    "print(matrice)"
   ]
  },
  {
   "cell_type": "markdown",
   "id": "composed-bunny",
   "metadata": {},
   "source": [
    "**matrice[1:, -2:] = les éléments allant de la ligne 1 (deuxième ligne) jusqu'à la fin, et les éléments allant de l'avant-dernière colonne jusqu'à la fin**."
   ]
  },
  {
   "cell_type": "markdown",
   "id": "indie-nutrition",
   "metadata": {},
   "source": [
    "Il est également possible de procéder au **slicing** et à l'**affectation de valeur sur les vecteurs**.\n",
    "\n",
    "Dans l'exemple suivant, on veut affecter **la valeur 0** aux éléments allant de l'**indice 2 à l'indice 6** (inclus)."
   ]
  },
  {
   "cell_type": "code",
   "execution_count": 45,
   "id": "flexible-occasion",
   "metadata": {},
   "outputs": [
    {
     "name": "stdout",
     "output_type": "stream",
     "text": [
      "[ 1  2  0  0  0  0  0  8  9 10 11 12 13 14 15]\n"
     ]
    }
   ],
   "source": [
    "vecteur = np.array([1,2,3,4,5,6,7,8,9,10,11,12,13,14,15])\n",
    "\n",
    "vecteur[2:7] = 0\n",
    "print(vecteur)"
   ]
  },
  {
   "cell_type": "markdown",
   "id": "motivated-manor",
   "metadata": {},
   "source": [
    "# <center>II.3. Elementwise Properties</center>"
   ]
  },
  {
   "cell_type": "markdown",
   "id": "wired-roberts",
   "metadata": {},
   "source": [
    "**Elementwise properties**, en français, **les propriétés éléments par éléments**, sont les fonctionnalités de Numpy qui permettent de procéder à des modifications sur les ndarray élément par élément."
   ]
  },
  {
   "cell_type": "markdown",
   "id": "defined-prairie",
   "metadata": {},
   "source": [
    "### <center><u>II.3.1.L'addition</u></center>"
   ]
  },
  {
   "cell_type": "markdown",
   "id": "marked-tanzania",
   "metadata": {},
   "source": [
    "Si on utilise l'opérateur **somme (+) entre un ndarray et un entier**, cela va **ajouter la valeur de l'entier à tous les éléments du ndarray**.\n",
    "\n",
    "Les deux cellules suivantes vous présentent un exemple, tout d'abord avec un vecteur (ndarray de dimension 1) et une matrice (un ndarray de dimension 2)."
   ]
  },
  {
   "cell_type": "code",
   "execution_count": 27,
   "id": "great-holder",
   "metadata": {},
   "outputs": [
    {
     "data": {
      "text/plain": [
       "array([1, 2, 3])"
      ]
     },
     "execution_count": 27,
     "metadata": {},
     "output_type": "execute_result"
    }
   ],
   "source": [
    "vecteur = np.array([0,1,2])\n",
    "vecteur + 1"
   ]
  },
  {
   "cell_type": "code",
   "execution_count": 31,
   "id": "placed-output",
   "metadata": {},
   "outputs": [
    {
     "data": {
      "text/plain": [
       "array([[2, 3, 4],\n",
       "       [4, 5, 6],\n",
       "       [6, 7, 8]])"
      ]
     },
     "execution_count": 31,
     "metadata": {},
     "output_type": "execute_result"
    }
   ],
   "source": [
    "matrice = np.array([[1,2,3], [3,4,5], [5,6,7]])\n",
    "matrice + 1"
   ]
  },
  {
   "cell_type": "code",
   "execution_count": null,
   "id": "tracked-basics",
   "metadata": {},
   "outputs": [],
   "source": [
    "Tous les éléments du vecteur et de la matrice se sont vus incrémentés de 1."
   ]
  },
  {
   "cell_type": "markdown",
   "id": "efficient-neighborhood",
   "metadata": {},
   "source": [
    "RAPPEL : l'opérateur somme permet de concaténer des listes entre elles, et il permet de faire des manipulations mathématiques sur des ndarray. Ces deux objets servent à répondre à des besoins différents."
   ]
  },
  {
   "cell_type": "code",
   "execution_count": 29,
   "id": "friendly-typing",
   "metadata": {},
   "outputs": [
    {
     "data": {
      "text/plain": [
       "[1, 2, 3, 4, 5]"
      ]
     },
     "execution_count": 29,
     "metadata": {},
     "output_type": "execute_result"
    }
   ],
   "source": [
    "liste = [1,2,3,4]\n",
    "liste + [5]"
   ]
  },
  {
   "cell_type": "markdown",
   "id": "exterior-radius",
   "metadata": {},
   "source": [
    "L'addition d'une liste et d'un entier ne fonctionne pas. Cela soulève un TypeError indiquant qu'on ne peut pas concaténer un nombre entier et une liste."
   ]
  },
  {
   "cell_type": "code",
   "execution_count": 30,
   "id": "ranking-interim",
   "metadata": {},
   "outputs": [
    {
     "ename": "TypeError",
     "evalue": "can only concatenate list (not \"int\") to list",
     "output_type": "error",
     "traceback": [
      "\u001b[1;31m---------------------------------------------------------------------------\u001b[0m",
      "\u001b[1;31mTypeError\u001b[0m                                 Traceback (most recent call last)",
      "\u001b[1;32m<ipython-input-30-55d7873d48f4>\u001b[0m in \u001b[0;36m<module>\u001b[1;34m\u001b[0m\n\u001b[0;32m      1\u001b[0m \u001b[0mliste\u001b[0m \u001b[1;33m=\u001b[0m \u001b[1;33m[\u001b[0m\u001b[1;36m1\u001b[0m\u001b[1;33m,\u001b[0m\u001b[1;36m2\u001b[0m\u001b[1;33m,\u001b[0m\u001b[1;36m3\u001b[0m\u001b[1;33m,\u001b[0m\u001b[1;36m4\u001b[0m\u001b[1;33m]\u001b[0m\u001b[1;33m\u001b[0m\u001b[1;33m\u001b[0m\u001b[0m\n\u001b[1;32m----> 2\u001b[1;33m \u001b[0mliste\u001b[0m \u001b[1;33m+\u001b[0m \u001b[1;36m5\u001b[0m\u001b[1;33m\u001b[0m\u001b[1;33m\u001b[0m\u001b[0m\n\u001b[0m",
      "\u001b[1;31mTypeError\u001b[0m: can only concatenate list (not \"int\") to list"
     ]
    }
   ],
   "source": [
    "liste = [1,2,3,4]\n",
    "liste + 5"
   ]
  },
  {
   "cell_type": "markdown",
   "id": "palestinian-irrigation",
   "metadata": {},
   "source": [
    "On peut **additionner la ligne d'une matrice et un vecteur** si leurs dimensions correspondent.\n",
    "\n",
    "Dans l'exemple suivant, on va additionner le vecteur à la première ligne de notre matrice."
   ]
  },
  {
   "cell_type": "code",
   "execution_count": 32,
   "id": "hearing-payroll",
   "metadata": {},
   "outputs": [
    {
     "data": {
      "text/plain": [
       "array([1, 3, 5])"
      ]
     },
     "execution_count": 32,
     "metadata": {},
     "output_type": "execute_result"
    }
   ],
   "source": [
    "vecteur = np.array([0,1,2])\n",
    "matrice = np.array([[1,2,3], [3,4,5], [5,6,7]])\n",
    "\n",
    "matrice[0] + vecteur"
   ]
  },
  {
   "cell_type": "markdown",
   "id": "simplified-companion",
   "metadata": {},
   "source": [
    "Cela nous affiche **la nouvelle valeur de la première ligne** : [1,3,5] = [0+1, 1+2, 2+3]"
   ]
  },
  {
   "cell_type": "markdown",
   "id": "emerging-canadian",
   "metadata": {},
   "source": [
    "Pour ce type d'addition : on parle d'addition élément par élément (elementwise addition)."
   ]
  },
  {
   "cell_type": "markdown",
   "id": "electric-warren",
   "metadata": {},
   "source": [
    "On peut **additionner le vecteur à toutes les lignes de la matrice**."
   ]
  },
  {
   "cell_type": "code",
   "execution_count": 35,
   "id": "interpreted-awareness",
   "metadata": {},
   "outputs": [
    {
     "data": {
      "text/plain": [
       "array([[1, 3, 5],\n",
       "       [3, 5, 7],\n",
       "       [5, 7, 9]])"
      ]
     },
     "execution_count": 35,
     "metadata": {},
     "output_type": "execute_result"
    }
   ],
   "source": [
    "vecteur = np.array([0,1,2])\n",
    "matrice = np.array([[1,2,3], [3,4,5], [5,6,7]])\n",
    "\n",
    "matrice + vecteur"
   ]
  },
  {
   "cell_type": "markdown",
   "id": "interpreted-singapore",
   "metadata": {},
   "source": [
    "**Toutes les lignes se sont vues incrémentées par les valeurs présentes dans le ndarray vecteur**. Cette opération a pu être possible car ils avaient des dimensions correspondantes (le même nombre de colonnes)."
   ]
  },
  {
   "cell_type": "markdown",
   "id": "domestic-alcohol",
   "metadata": {},
   "source": [
    "### <center><u>II.3.2. La soustraction</u></center>"
   ]
  },
  {
   "cell_type": "markdown",
   "id": "absent-relation",
   "metadata": {},
   "source": [
    "La soustraction fonctionne comme l'addition à un seul détail, **l'ordre dans lequel vous écrivez vos variables pour la soustraction est important**.\n",
    "\n",
    "Prenons un exemple avec deux ndarray de dimension 1."
   ]
  },
  {
   "cell_type": "code",
   "execution_count": 47,
   "id": "secret-jason",
   "metadata": {},
   "outputs": [
    {
     "name": "stdout",
     "output_type": "stream",
     "text": [
      "[2 4 6 8]\n",
      "\n",
      "[-2 -4 -6 -8]\n"
     ]
    }
   ],
   "source": [
    "vecteur_1 = np.array([1,2,3,4])\n",
    "vecteur_2 = np.array([-1, -2, -3, -4])\n",
    "\n",
    "print(vecteur_1 - vecteur_2)\n",
    "print()\n",
    "print(vecteur_2 - vecteur_1)"
   ]
  },
  {
   "cell_type": "markdown",
   "id": "underlying-notebook",
   "metadata": {},
   "source": [
    "Comme vous pouvez le voir, **le résultat n'est pas le même**, faites donc très attention."
   ]
  },
  {
   "cell_type": "markdown",
   "id": "burning-beverage",
   "metadata": {},
   "source": [
    "### <center><u>II.3.3. La multiplication</u></center>"
   ]
  },
  {
   "cell_type": "markdown",
   "id": "drawn-governor",
   "metadata": {},
   "source": [
    "Tout ce que l'on a vu précédemment pour l'**addition marche pour la multiplication**.\n",
    "\n",
    "Dans l'exemple ci-dessous, on va multiplier un vecteur et une matrice par un nombre entier."
   ]
  },
  {
   "cell_type": "code",
   "execution_count": 37,
   "id": "intense-throat",
   "metadata": {},
   "outputs": [
    {
     "data": {
      "text/plain": [
       "array([0, 2, 4])"
      ]
     },
     "execution_count": 37,
     "metadata": {},
     "output_type": "execute_result"
    }
   ],
   "source": [
    "vecteur = np.array([0,1,2])\n",
    "vecteur * 2"
   ]
  },
  {
   "cell_type": "code",
   "execution_count": 38,
   "id": "thermal-recycling",
   "metadata": {},
   "outputs": [
    {
     "data": {
      "text/plain": [
       "array([[ 2,  4,  6],\n",
       "       [ 6,  8, 10],\n",
       "       [10, 12, 14]])"
      ]
     },
     "execution_count": 38,
     "metadata": {},
     "output_type": "execute_result"
    }
   ],
   "source": [
    "matrice = np.array([[1,2,3], [3,4,5], [5,6,7]])\n",
    "matrice * 2"
   ]
  },
  {
   "cell_type": "markdown",
   "id": "champion-suggestion",
   "metadata": {},
   "source": [
    "On peut **multiplier la ligne d'une matrice avec les valeurs d'un vecteur**."
   ]
  },
  {
   "cell_type": "code",
   "execution_count": 39,
   "id": "false-brazil",
   "metadata": {},
   "outputs": [
    {
     "data": {
      "text/plain": [
       "array([0, 2, 6])"
      ]
     },
     "execution_count": 39,
     "metadata": {},
     "output_type": "execute_result"
    }
   ],
   "source": [
    "vecteur = np.array([0,1,2])\n",
    "matrice = np.array([[1,2,3], [3,4,5], [5,6,7]])\n",
    "\n",
    "matrice[0] * vecteur"
   ]
  },
  {
   "cell_type": "markdown",
   "id": "encouraging-biography",
   "metadata": {},
   "source": [
    "C'est une **multiplication élément par élément**. Chaque élément de la première ligne de la matrice se voit multiplier par l'élément au même indice dans le vecteur. On obtient donc : \n",
    "    \n",
    "**[0 * 1, 1 * 2, 2 * 3] = [0, 2, 6]**"
   ]
  },
  {
   "cell_type": "markdown",
   "id": "prompt-tribe",
   "metadata": {},
   "source": [
    "On peut également **multiplier toutes les lignes d'une matrice par un vecteur**."
   ]
  },
  {
   "cell_type": "code",
   "execution_count": 40,
   "id": "demanding-batch",
   "metadata": {},
   "outputs": [
    {
     "data": {
      "text/plain": [
       "array([[ 0,  2,  6],\n",
       "       [ 0,  4, 10],\n",
       "       [ 0,  6, 14]])"
      ]
     },
     "execution_count": 40,
     "metadata": {},
     "output_type": "execute_result"
    }
   ],
   "source": [
    "vecteur = np.array([0,1,2])\n",
    "matrice = np.array([[1,2,3], [3,4,5], [5,6,7]])\n",
    "\n",
    "matrice * vecteur"
   ]
  },
  {
   "cell_type": "markdown",
   "id": "cutting-march",
   "metadata": {},
   "source": [
    "Pour chaque ligne de la matrice, le premier élément a été multiplié par 0, le deuxième élément par 1, le troisième élément par 2. Soit, les éléments de la variable vecteur [0,1,2]."
   ]
  },
  {
   "cell_type": "markdown",
   "id": "behind-community",
   "metadata": {},
   "source": [
    "### <center><u>II.3.4. La division</u></center>"
   ]
  },
  {
   "cell_type": "markdown",
   "id": "fundamental-longitude",
   "metadata": {},
   "source": [
    "La division fonctionne comme la multiplication, mais comme pour la soustration, **l'ordre est important**.\n",
    "\n",
    "Prenons un exemple avec deux vecteurs."
   ]
  },
  {
   "cell_type": "code",
   "execution_count": 48,
   "id": "thirty-murray",
   "metadata": {},
   "outputs": [
    {
     "name": "stdout",
     "output_type": "stream",
     "text": [
      "[1. 2. 3. 4.]\n",
      "\n",
      "[1.         0.5        0.33333333 0.25      ]\n"
     ]
    }
   ],
   "source": [
    "vecteur_1 = np.array([2,4,6,8])\n",
    "vecteur_2 = np.array([2,2,2,2])\n",
    "\n",
    "print(vecteur_1 / vecteur_2)\n",
    "print()\n",
    "print(vecteur_2 / vecteur_1)"
   ]
  },
  {
   "cell_type": "markdown",
   "id": "modern-moisture",
   "metadata": {},
   "source": [
    "Comme vous pouvez le constatez, **les résultats diffèrent selon l'ordre dans lequel les variables sont positionnées** dans l'opération."
   ]
  },
  {
   "cell_type": "code",
   "execution_count": null,
   "id": "enabling-vienna",
   "metadata": {},
   "outputs": [],
   "source": []
  }
 ],
 "metadata": {
  "kernelspec": {
   "display_name": "Python 3",
   "language": "python",
   "name": "python3"
  },
  "language_info": {
   "codemirror_mode": {
    "name": "ipython",
    "version": 3
   },
   "file_extension": ".py",
   "mimetype": "text/x-python",
   "name": "python",
   "nbconvert_exporter": "python",
   "pygments_lexer": "ipython3",
   "version": "3.9.2"
  }
 },
 "nbformat": 4,
 "nbformat_minor": 5
}
