{
 "cells": [
  {
   "cell_type": "markdown",
   "id": "frozen-civilization",
   "metadata": {},
   "source": [
    "# I.1. Exercice 1"
   ]
  },
  {
   "cell_type": "markdown",
   "id": "competent-relative",
   "metadata": {},
   "source": [
    "- Créez **deux scalaires** (deux ndarray de dimension 0) qui ont respectivement pour valeur 5 et 6, et additionnez-les.\n",
    "\n",
    "- Afficher le **résultat** dans une fonction **print()**."
   ]
  },
  {
   "cell_type": "markdown",
   "id": "bottom-needle",
   "metadata": {},
   "source": [
    "# I.2. Exercice 2"
   ]
  },
  {
   "cell_type": "markdown",
   "id": "expensive-occasion",
   "metadata": {},
   "source": [
    "- Créez **trois vecteurs** (trois ndarray de dimension 1) qui ont pour valeur : [1,2,3], [3,2,1] et [0,1,-1], et additionnez-les.\n",
    "\n",
    "- Afficher le **résultat** dans une fonction **print()**.\n",
    "\n",
    "- Afficher en-dessous **la dimension** de ce vecteur."
   ]
  },
  {
   "cell_type": "markdown",
   "id": "excessive-agent",
   "metadata": {},
   "source": [
    "# I.3. Exercice 3"
   ]
  },
  {
   "cell_type": "markdown",
   "id": "authorized-watts",
   "metadata": {},
   "source": [
    "- Créez un **scalaire** qui a pour valeur : 0\n",
    "- Créez un **vecteur** qui a pour valeur : [125, 2185, 321, 665, 17, -8]\n",
    "- **Multipliez le scalaire et le vecteur** (Pour cela, il faut utiliser l'opérateur *)\n",
    "- Affichez le résultat avec la fonction **print()**\n",
    "- **Que constatez-vous?**"
   ]
  },
  {
   "cell_type": "markdown",
   "id": "offshore-reporter",
   "metadata": {},
   "source": [
    "# I.4. Exercice 4"
   ]
  },
  {
   "cell_type": "markdown",
   "id": "decreased-denver",
   "metadata": {},
   "source": [
    "- Créez **une matrice de dimension 2x3** (peu importe les valeurs de ses éléments)\n",
    "- Vérifier que vous avez bien réussi à créer cette matrice en utilisant l'attribut **shape**."
   ]
  },
  {
   "cell_type": "markdown",
   "id": "spread-dealer",
   "metadata": {},
   "source": [
    "# I.5. Exercice 5"
   ]
  },
  {
   "cell_type": "markdown",
   "id": "afraid-account",
   "metadata": {},
   "source": [
    "- Créez **deux matrices** de **dimension 4x2**.\n",
    "- Faites **une somme** de ces deux matrices\n",
    "- **Que constatez-vous?**"
   ]
  },
  {
   "cell_type": "markdown",
   "id": "sharing-westminster",
   "metadata": {},
   "source": [
    "# I.6. Exercice 6"
   ]
  },
  {
   "cell_type": "markdown",
   "id": "strong-trick",
   "metadata": {},
   "source": [
    "- 1. Créez deux vecteurs v1 et v2 et trois scalaires a1, a2, a3.\n",
    "- 2. Les vecteurs v1 et v2 seront définis comme suit : v1 = [4,7] et v2=[3,6]\n",
    "- 3. Les scalaires a1, a2 et a3 seront définis comme suit : a1 = 2, a2 = 3, a3 = 1.5\n",
    "- 4. Multipliez le vecteur v1 par le scalaire a1\n",
    "- 5. Multipliez le vecteur v2 par le scalaire a2\n",
    "- 6. Additionnez les deux nouveaux vecteurs que vous avez obtenus après multiplication\n",
    "- 7. Multipliez ce dernier vecteur par le scalaire a3\n",
    "- 8. Quel résultat obtenez-vous?"
   ]
  }
 ],
 "metadata": {
  "kernelspec": {
   "display_name": "Python 3",
   "language": "python",
   "name": "python3"
  },
  "language_info": {
   "codemirror_mode": {
    "name": "ipython",
    "version": 3
   },
   "file_extension": ".py",
   "mimetype": "text/x-python",
   "name": "python",
   "nbconvert_exporter": "python",
   "pygments_lexer": "ipython3",
   "version": "3.9.2"
  }
 },
 "nbformat": 4,
 "nbformat_minor": 5
}
