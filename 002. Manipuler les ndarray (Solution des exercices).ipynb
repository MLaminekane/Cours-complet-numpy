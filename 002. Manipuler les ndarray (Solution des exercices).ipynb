{
 "cells": [
  {
   "cell_type": "markdown",
   "id": "exclusive-exploration",
   "metadata": {},
   "source": [
    "**Ne pas oublier d'exécuter l'import de Numpy au début de votre notebook!**"
   ]
  },
  {
   "cell_type": "code",
   "execution_count": 2,
   "id": "instant-transition",
   "metadata": {},
   "outputs": [],
   "source": [
    "import numpy as np"
   ]
  },
  {
   "cell_type": "markdown",
   "id": "crude-weather",
   "metadata": {},
   "source": [
    "# <center>II.1. Indexing et slicing</center>"
   ]
  },
  {
   "cell_type": "markdown",
   "id": "adverse-price",
   "metadata": {},
   "source": [
    "# II.1.1. Solution de l'exercice 1"
   ]
  },
  {
   "cell_type": "code",
   "execution_count": 3,
   "id": "unlikely-beads",
   "metadata": {},
   "outputs": [],
   "source": [
    "matrice_exercice_1 = np.array([[1,2,3,4,5,6,7,8,9,10],\n",
    "                               [11,12,13,14,15,16,17,18,19,20],\n",
    "                               [21,22,23,24,25,26,27,28,29,30],\n",
    "                               [31,32,33,34,35,36,37,38,39,40],\n",
    "                               [41,42,43,44,45,46,47,48,49,50]])"
   ]
  },
  {
   "cell_type": "markdown",
   "id": "improving-hundred",
   "metadata": {},
   "source": [
    "**3ème ligne - 5ème colonne**"
   ]
  },
  {
   "cell_type": "code",
   "execution_count": 5,
   "id": "relative-campbell",
   "metadata": {},
   "outputs": [
    {
     "data": {
      "text/plain": [
       "25"
      ]
     },
     "execution_count": 5,
     "metadata": {},
     "output_type": "execute_result"
    }
   ],
   "source": [
    "ligne_3_colonne_5 = matrice_exercice_1[2,4]\n",
    "ligne_3_colonne_5"
   ]
  },
  {
   "cell_type": "markdown",
   "id": "fatty-learning",
   "metadata": {},
   "source": [
    "**dernière ligne - dernière colonne**"
   ]
  },
  {
   "cell_type": "code",
   "execution_count": 6,
   "id": "breeding-madness",
   "metadata": {},
   "outputs": [
    {
     "data": {
      "text/plain": [
       "50"
      ]
     },
     "execution_count": 6,
     "metadata": {},
     "output_type": "execute_result"
    }
   ],
   "source": [
    "derniere_ligne_derniere_colonne = matrice_exercice_1[-1, -1]\n",
    "derniere_ligne_derniere_colonne"
   ]
  },
  {
   "cell_type": "markdown",
   "id": "british-roman",
   "metadata": {},
   "source": [
    "**avant-dernière ligne - 6ème colonne**"
   ]
  },
  {
   "cell_type": "code",
   "execution_count": 7,
   "id": "international-single",
   "metadata": {},
   "outputs": [
    {
     "data": {
      "text/plain": [
       "36"
      ]
     },
     "execution_count": 7,
     "metadata": {},
     "output_type": "execute_result"
    }
   ],
   "source": [
    "avt_derniere_ligne_colonne_6 = matrice_exercice_1[-2, 5]\n",
    "avt_derniere_ligne_colonne_6"
   ]
  },
  {
   "cell_type": "markdown",
   "id": "authorized-vacation",
   "metadata": {},
   "source": [
    "# II.1.2. Solution de l'exercice 2"
   ]
  },
  {
   "cell_type": "code",
   "execution_count": 8,
   "id": "rough-declaration",
   "metadata": {},
   "outputs": [],
   "source": [
    "matrice_exercice_2 = np.array([[1,2,3,4,5,6,7,8,9,10],\n",
    "                               [11,12,13,14,15,16,17,18,19,20],\n",
    "                               [21,22,23,24,25,26,27,28,29,30],\n",
    "                               [31,32,33,34,35,36,37,38,39,40],\n",
    "                               [41,42,43,44,45,46,47,48,49,50],\n",
    "                               [51,52,53,54,55,56,57,58,59,60],\n",
    "                               [61,62,63,64,65,66,67,68,69,70],\n",
    "                               [71,72,73,74,75,76,77,78,79,80]])"
   ]
  },
  {
   "cell_type": "markdown",
   "id": "accomplished-savannah",
   "metadata": {},
   "source": [
    "- Faire un **slicing** en récupérant tous les éléments de la **3ème à l'avant-dernière ligne exclus**."
   ]
  },
  {
   "cell_type": "code",
   "execution_count": 11,
   "id": "serial-syria",
   "metadata": {},
   "outputs": [
    {
     "data": {
      "text/plain": [
       "array([[21, 22, 23, 24, 25, 26, 27, 28, 29, 30],\n",
       "       [31, 32, 33, 34, 35, 36, 37, 38, 39, 40],\n",
       "       [41, 42, 43, 44, 45, 46, 47, 48, 49, 50],\n",
       "       [51, 52, 53, 54, 55, 56, 57, 58, 59, 60]])"
      ]
     },
     "execution_count": 11,
     "metadata": {},
     "output_type": "execute_result"
    }
   ],
   "source": [
    "slicing_1 = matrice_exercice_2[2:-2, :]\n",
    "slicing_1"
   ]
  },
  {
   "cell_type": "code",
   "execution_count": 12,
   "id": "biblical-ensemble",
   "metadata": {},
   "outputs": [
    {
     "data": {
      "text/plain": [
       "array([[21, 22, 23, 24, 25, 26, 27, 28, 29, 30],\n",
       "       [31, 32, 33, 34, 35, 36, 37, 38, 39, 40],\n",
       "       [41, 42, 43, 44, 45, 46, 47, 48, 49, 50],\n",
       "       [51, 52, 53, 54, 55, 56, 57, 58, 59, 60]])"
      ]
     },
     "execution_count": 12,
     "metadata": {},
     "output_type": "execute_result"
    }
   ],
   "source": [
    "slicing_1_solution_2 = matrice_exercice_2[2:-2,]\n",
    "slicing_1_solution_2"
   ]
  },
  {
   "cell_type": "markdown",
   "id": "sonic-banana",
   "metadata": {},
   "source": [
    "- Faire un **slicing** en récupérant l'élément à la **5ème colonne** de la **5ème ligne à la 6ème ligne inclus**."
   ]
  },
  {
   "cell_type": "code",
   "execution_count": 13,
   "id": "imported-checkout",
   "metadata": {},
   "outputs": [
    {
     "data": {
      "text/plain": [
       "array([46, 56])"
      ]
     },
     "execution_count": 13,
     "metadata": {},
     "output_type": "execute_result"
    }
   ],
   "source": [
    "slicing_2 = matrice_exercice_2[4:6, 5]\n",
    "slicing_2"
   ]
  },
  {
   "cell_type": "markdown",
   "id": "underlying-secret",
   "metadata": {},
   "source": [
    "- Faire un **slicing** de la **deuxième ligne à la quatrième ligne inclus**, de la troisième colonne à la **huitième colonne** inclus."
   ]
  },
  {
   "cell_type": "code",
   "execution_count": 14,
   "id": "taken-drive",
   "metadata": {},
   "outputs": [
    {
     "data": {
      "text/plain": [
       "array([[13, 14, 15, 16, 17, 18],\n",
       "       [23, 24, 25, 26, 27, 28],\n",
       "       [33, 34, 35, 36, 37, 38]])"
      ]
     },
     "execution_count": 14,
     "metadata": {},
     "output_type": "execute_result"
    }
   ],
   "source": [
    "slicing_3 = matrice_exercice_2[1:4, 2:8]\n",
    "slicing_3"
   ]
  },
  {
   "cell_type": "markdown",
   "id": "brilliant-kenya",
   "metadata": {},
   "source": [
    "- Faire un **slicing** : récupérer la **ligne 3** de la **3ème à la 7ème colonne inclus**."
   ]
  },
  {
   "cell_type": "code",
   "execution_count": 15,
   "id": "functional-universe",
   "metadata": {},
   "outputs": [
    {
     "data": {
      "text/plain": [
       "array([33, 34, 35, 36, 37])"
      ]
     },
     "execution_count": 15,
     "metadata": {},
     "output_type": "execute_result"
    }
   ],
   "source": [
    "slicing_4 = matrice_exercice_2[3, 2:7]\n",
    "slicing_4"
   ]
  },
  {
   "cell_type": "markdown",
   "id": "greatest-thumb",
   "metadata": {},
   "source": [
    "# II.1.3. Solution de l'exercice 3"
   ]
  },
  {
   "cell_type": "code",
   "execution_count": 16,
   "id": "conventional-andrews",
   "metadata": {},
   "outputs": [],
   "source": [
    "matrice_exercice_3 = np.array([[1,2,3,4,5,6,7,8,9,10],\n",
    "                               [11,12,13,14,15,16,17,18,19,20],\n",
    "                               [21,22,23,24,25,26,27,28,29,30],\n",
    "                               [31,32,33,34,35,36,37,38,39,40],\n",
    "                               [41,42,43,44,45,46,47,48,49,50],\n",
    "                               [51,52,53,54,55,56,57,58,59,60],\n",
    "                               [61,62,63,64,65,66,67,68,69,70],\n",
    "                               [71,72,73,74,75,76,77,78,79,80],\n",
    "                               [81,82,83,84,85,86,87,88,89,90],\n",
    "                               [91,92,93,94,95,96,97,98,99,100]])"
   ]
  },
  {
   "cell_type": "markdown",
   "id": "characteristic-plenty",
   "metadata": {},
   "source": [
    "- Récupérer tous les éléments **aux indices pairs** des lignes et des colonnes"
   ]
  },
  {
   "cell_type": "code",
   "execution_count": 17,
   "id": "biological-hybrid",
   "metadata": {},
   "outputs": [
    {
     "data": {
      "text/plain": [
       "array([[ 1,  3,  5,  7,  9],\n",
       "       [21, 23, 25, 27, 29],\n",
       "       [41, 43, 45, 47, 49],\n",
       "       [61, 63, 65, 67, 69],\n",
       "       [81, 83, 85, 87, 89]])"
      ]
     },
     "execution_count": 17,
     "metadata": {},
     "output_type": "execute_result"
    }
   ],
   "source": [
    "indices_pairs = matrice_exercice_3[0::2, 0::2]\n",
    "indices_pairs"
   ]
  },
  {
   "cell_type": "markdown",
   "id": "nonprofit-prompt",
   "metadata": {},
   "source": [
    "Note : avec les éléments aux indices pairs, on ne se retrouve qu'avec des valeurs impairs. En effet, tout commence à l'**indice 0** où se trouve la **valeur 1**.\n",
    "\n",
    "Le **0 est facultatif dans les crochets.**"
   ]
  },
  {
   "cell_type": "code",
   "execution_count": 18,
   "id": "cutting-failure",
   "metadata": {},
   "outputs": [
    {
     "data": {
      "text/plain": [
       "array([[ 1,  3,  5,  7,  9],\n",
       "       [21, 23, 25, 27, 29],\n",
       "       [41, 43, 45, 47, 49],\n",
       "       [61, 63, 65, 67, 69],\n",
       "       [81, 83, 85, 87, 89]])"
      ]
     },
     "execution_count": 18,
     "metadata": {},
     "output_type": "execute_result"
    }
   ],
   "source": [
    "indices_pairs_solution_2 = matrice_exercice_3[::2, ::2]\n",
    "indices_pairs_solution_2"
   ]
  },
  {
   "cell_type": "markdown",
   "id": "fleet-square",
   "metadata": {},
   "source": [
    "- Récupérer **tous les éléments avec un pas de 5**."
   ]
  },
  {
   "cell_type": "code",
   "execution_count": 19,
   "id": "incoming-union",
   "metadata": {},
   "outputs": [
    {
     "data": {
      "text/plain": [
       "array([[ 1,  6],\n",
       "       [51, 56]])"
      ]
     },
     "execution_count": 19,
     "metadata": {},
     "output_type": "execute_result"
    }
   ],
   "source": [
    "element_pas_5 = matrice_exercice_3[::5, ::5]\n",
    "element_pas_5"
   ]
  },
  {
   "cell_type": "markdown",
   "id": "affiliated-nicaragua",
   "metadata": {},
   "source": [
    "- Faire un slicing de **la 1ère à la 5ème ligne inclus** et de la **6ème colonne à la dernière inclus**. Récupérer les lignes avec un pas de 2 et les colonnes avec un pas de 1."
   ]
  },
  {
   "cell_type": "code",
   "execution_count": 21,
   "id": "veterinary-orlando",
   "metadata": {},
   "outputs": [
    {
     "data": {
      "text/plain": [
       "array([[ 6,  7,  8,  9, 10],\n",
       "       [26, 27, 28, 29, 30],\n",
       "       [46, 47, 48, 49, 50]])"
      ]
     },
     "execution_count": 21,
     "metadata": {},
     "output_type": "execute_result"
    }
   ],
   "source": [
    "slicing_5 = matrice_exercice_3[:5:2, 5::]\n",
    "slicing_5"
   ]
  },
  {
   "cell_type": "markdown",
   "id": "extraordinary-budapest",
   "metadata": {},
   "source": [
    "# <center>II.2. Assigner des valeurs</center>"
   ]
  },
  {
   "cell_type": "markdown",
   "id": "owned-jonathan",
   "metadata": {},
   "source": [
    "# II.2.1. Solution de l'exercice 4"
   ]
  },
  {
   "cell_type": "code",
   "execution_count": 22,
   "id": "congressional-antigua",
   "metadata": {},
   "outputs": [],
   "source": [
    "vecteur_exercice_4 = np.array([1,2,3,4,5,6,7,8,9,10,11,12,13])"
   ]
  },
  {
   "cell_type": "markdown",
   "id": "interstate-scoop",
   "metadata": {},
   "source": [
    "- Assigner la **valeur 5** à l'**indice 3** du vecteur suivant."
   ]
  },
  {
   "cell_type": "code",
   "execution_count": 23,
   "id": "worthy-genome",
   "metadata": {},
   "outputs": [
    {
     "data": {
      "text/plain": [
       "array([ 1,  2,  3,  5,  5,  6,  7,  8,  9, 10, 11, 12, 13])"
      ]
     },
     "execution_count": 23,
     "metadata": {},
     "output_type": "execute_result"
    }
   ],
   "source": [
    "vecteur_exercice_4[3] = 5\n",
    "vecteur_exercice_4"
   ]
  },
  {
   "cell_type": "markdown",
   "id": "atmospheric-characterization",
   "metadata": {},
   "source": [
    "- Assigner la **valeur 9** au **dernier indice** du vecteur suivant."
   ]
  },
  {
   "cell_type": "code",
   "execution_count": 24,
   "id": "sporting-combination",
   "metadata": {},
   "outputs": [
    {
     "data": {
      "text/plain": [
       "array([ 1,  2,  3,  5,  5,  6,  7,  8,  9, 10, 11, 12,  9])"
      ]
     },
     "execution_count": 24,
     "metadata": {},
     "output_type": "execute_result"
    }
   ],
   "source": [
    "vecteur_exercice_4[-1] = 9\n",
    "vecteur_exercice_4"
   ]
  },
  {
   "cell_type": "markdown",
   "id": "spanish-equipment",
   "metadata": {},
   "source": [
    "# II.2.2. Solution de l'exercice 5"
   ]
  },
  {
   "cell_type": "code",
   "execution_count": 31,
   "id": "advisory-roberts",
   "metadata": {},
   "outputs": [],
   "source": [
    "matrice_exercice_5 = np.array([[0,0,0,0,0], [2,2,2,2,-2], [3,3,3,3,-3], [4,4,4,4,-4], [5, 6, 6, 6, -5]])"
   ]
  },
  {
   "cell_type": "markdown",
   "id": "disturbed-startup",
   "metadata": {},
   "source": [
    "- Assigner la **valeur 1** à toute la première ligne"
   ]
  },
  {
   "cell_type": "code",
   "execution_count": 32,
   "id": "recent-constant",
   "metadata": {},
   "outputs": [
    {
     "data": {
      "text/plain": [
       "array([[ 1,  1,  1,  1,  1],\n",
       "       [ 2,  2,  2,  2, -2],\n",
       "       [ 3,  3,  3,  3, -3],\n",
       "       [ 4,  4,  4,  4, -4],\n",
       "       [ 5,  6,  6,  6, -5]])"
      ]
     },
     "execution_count": 32,
     "metadata": {},
     "output_type": "execute_result"
    }
   ],
   "source": [
    "matrice_exercice_5[0] = 1\n",
    "matrice_exercice_5"
   ]
  },
  {
   "cell_type": "markdown",
   "id": "numeric-eclipse",
   "metadata": {},
   "source": [
    "- Assigner à la **dernière colonne des valeurs croissantes en commençant par la valeur 1**."
   ]
  },
  {
   "cell_type": "code",
   "execution_count": 33,
   "id": "duplicate-scheme",
   "metadata": {},
   "outputs": [
    {
     "data": {
      "text/plain": [
       "array([[1, 1, 1, 1, 1],\n",
       "       [2, 2, 2, 2, 2],\n",
       "       [3, 3, 3, 3, 3],\n",
       "       [4, 4, 4, 4, 4],\n",
       "       [5, 6, 6, 6, 5]])"
      ]
     },
     "execution_count": 33,
     "metadata": {},
     "output_type": "execute_result"
    }
   ],
   "source": [
    "matrice_exercice_5[:,-1] = [1,2,3,4,5]\n",
    "matrice_exercice_5"
   ]
  },
  {
   "cell_type": "markdown",
   "id": "circular-missouri",
   "metadata": {},
   "source": [
    "- Assigner **la valeur 5** aux éléments à la **dernière ligne** et aux **colonnes allant de l'indice 1 à l'indice 3 inclus**."
   ]
  },
  {
   "cell_type": "code",
   "execution_count": 34,
   "id": "heard-vertex",
   "metadata": {},
   "outputs": [
    {
     "data": {
      "text/plain": [
       "array([[1, 1, 1, 1, 1],\n",
       "       [2, 2, 2, 2, 2],\n",
       "       [3, 3, 3, 3, 3],\n",
       "       [4, 4, 4, 4, 4],\n",
       "       [5, 5, 5, 5, 5]])"
      ]
     },
     "execution_count": 34,
     "metadata": {},
     "output_type": "execute_result"
    }
   ],
   "source": [
    "matrice_exercice_5[-1,1:4] = 5\n",
    "matrice_exercice_5"
   ]
  }
 ],
 "metadata": {
  "kernelspec": {
   "display_name": "Python 3",
   "language": "python",
   "name": "python3"
  },
  "language_info": {
   "codemirror_mode": {
    "name": "ipython",
    "version": 3
   },
   "file_extension": ".py",
   "mimetype": "text/x-python",
   "name": "python",
   "nbconvert_exporter": "python",
   "pygments_lexer": "ipython3",
   "version": "3.9.2"
  }
 },
 "nbformat": 4,
 "nbformat_minor": 5
}
