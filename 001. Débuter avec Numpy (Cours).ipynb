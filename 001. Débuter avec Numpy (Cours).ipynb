{
 "cells": [
  {
   "cell_type": "markdown",
   "id": "thousand-internship",
   "metadata": {},
   "source": [
    "# <center>I. Débuter avec Numpy</center>"
   ]
  },
  {
   "cell_type": "markdown",
   "id": "toxic-patrick",
   "metadata": {},
   "source": [
    "Documentation du module Numpy : https://numpy.org/doc/"
   ]
  },
  {
   "cell_type": "markdown",
   "id": "passing-sheep",
   "metadata": {},
   "source": [
    "Il faut **exécuter la cellule ci-dessous** pour pouvoir lancer les exemples dans ce notebook."
   ]
  },
  {
   "cell_type": "code",
   "execution_count": 2,
   "id": "recognized-meditation",
   "metadata": {},
   "outputs": [],
   "source": [
    "import numpy as np"
   ]
  },
  {
   "cell_type": "markdown",
   "id": "statewide-musical",
   "metadata": {},
   "source": [
    "Pour connaître **votre version de Numpy**, tapez **np.__version__** après avoir importé **numpy** sous le nom **np**."
   ]
  },
  {
   "cell_type": "code",
   "execution_count": 3,
   "id": "economic-disaster",
   "metadata": {},
   "outputs": [
    {
     "data": {
      "text/plain": [
       "'1.20.2'"
      ]
     },
     "execution_count": 3,
     "metadata": {},
     "output_type": "execute_result"
    }
   ],
   "source": [
    "import numpy as np\n",
    "\n",
    "np.__version__"
   ]
  },
  {
   "cell_type": "markdown",
   "id": "rapid-cartridge",
   "metadata": {},
   "source": [
    "### <center><u> I.1. Un scalaire </u></center>"
   ]
  },
  {
   "cell_type": "markdown",
   "id": "loving-shooting",
   "metadata": {},
   "source": [
    "Documentation de l'objet ndarray : https://numpy.org/doc/stable/reference/generated/numpy.ndarray.html"
   ]
  },
  {
   "cell_type": "code",
   "execution_count": 3,
   "id": "statistical-bulgarian",
   "metadata": {},
   "outputs": [
    {
     "data": {
      "text/plain": [
       "array(1)"
      ]
     },
     "execution_count": 3,
     "metadata": {},
     "output_type": "execute_result"
    }
   ],
   "source": [
    "scalaire = np.array(1)\n",
    "scalaire"
   ]
  },
  {
   "cell_type": "markdown",
   "id": "strange-classics",
   "metadata": {},
   "source": [
    "La variable <i>scalaire</i> est un objet issu de la classe \"**ndarray**\" ayant pour valeur array(1), alors qu'un nombre entier contenant la valeur 1 est un objet instancié de la classe \"**int**\"."
   ]
  },
  {
   "cell_type": "code",
   "execution_count": 4,
   "id": "defensive-puzzle",
   "metadata": {},
   "outputs": [
    {
     "name": "stdout",
     "output_type": "stream",
     "text": [
      "Type de la variable scalaire : <class 'numpy.ndarray'>\n",
      "Type d'un entier valant 1 : <class 'int'>\n"
     ]
    }
   ],
   "source": [
    "scalaire = np.array(1)\n",
    "print(\"Type de la variable scalaire :\", type(scalaire))\n",
    "print(\"Type d'un entier valant 1 :\", type(1))"
   ]
  },
  {
   "cell_type": "markdown",
   "id": "convinced-boulder",
   "metadata": {},
   "source": [
    "### <center><u> I.2. Un tableau à 1 dimension </u></center>"
   ]
  },
  {
   "cell_type": "markdown",
   "id": "adolescent-developer",
   "metadata": {},
   "source": [
    "Un **ndarray de dimension 1**, permet de représenter des **vecteurs**."
   ]
  },
  {
   "cell_type": "code",
   "execution_count": 10,
   "id": "protecting-reception",
   "metadata": {},
   "outputs": [
    {
     "data": {
      "text/plain": [
       "array([1, 2, 3])"
      ]
     },
     "execution_count": 10,
     "metadata": {},
     "output_type": "execute_result"
    }
   ],
   "source": [
    "vecteur = np.array([1,2,3])\n",
    "vecteur"
   ]
  },
  {
   "cell_type": "markdown",
   "id": "satisfactory-elizabeth",
   "metadata": {},
   "source": [
    "La variable **vecteur** est un objet issu de la classe \"**ndarray**\" ayant pour valeur array([1,2,3]), ce qui est différent d'une liste (objet list) python qui aurait pour valeur [1,2,3]."
   ]
  },
  {
   "cell_type": "code",
   "execution_count": 8,
   "id": "sealed-pavilion",
   "metadata": {},
   "outputs": [
    {
     "name": "stdout",
     "output_type": "stream",
     "text": [
      "Type de la variable vecteur : <class 'numpy.ndarray'>\n",
      "Type d'une liste contenant [1,2,3] : <class 'list'>\n"
     ]
    }
   ],
   "source": [
    "vecteur = np.array([1,2,3])\n",
    "print(\"Type de la variable vecteur :\", type(vecteur))\n",
    "print(\"Type d'une liste contenant [1,2,3] :\", type([1,2,3]))"
   ]
  },
  {
   "cell_type": "markdown",
   "id": "considerable-dance",
   "metadata": {},
   "source": [
    "### <center><u> I.3. Un tableau à 2 dimensions </u></center>"
   ]
  },
  {
   "cell_type": "markdown",
   "id": "caring-weekend",
   "metadata": {},
   "source": [
    "Un **ndarray de dimension 2** permet de représenter **matrices**."
   ]
  },
  {
   "cell_type": "code",
   "execution_count": 12,
   "id": "urban-europe",
   "metadata": {},
   "outputs": [
    {
     "data": {
      "text/plain": [
       "array([[1, 2, 3],\n",
       "       [4, 5, 6]])"
      ]
     },
     "execution_count": 12,
     "metadata": {},
     "output_type": "execute_result"
    }
   ],
   "source": [
    "matrice = np.array([[1,2,3], [4,5,6]])\n",
    "matrice"
   ]
  },
  {
   "cell_type": "markdown",
   "id": "dimensional-television",
   "metadata": {},
   "source": [
    "La variable **matrice** est un objet issu de la classe \"**ndarray**\" ayant pour valeur array([[1,2,3],[4,5,6]]), ce qui est différent d'une liste de listes qui aurait pour valeur [[1,2,3], [4,5,6]]"
   ]
  },
  {
   "cell_type": "code",
   "execution_count": 13,
   "id": "comparative-finance",
   "metadata": {},
   "outputs": [
    {
     "name": "stdout",
     "output_type": "stream",
     "text": [
      "Type de la variable matrice : <class 'numpy.ndarray'>\n",
      "Type d'une liste de listes contenant [[1,2,3], [4,5,6]] : <class 'list'>\n"
     ]
    }
   ],
   "source": [
    "matrice = np.array([[1,2,3], [4,5,6]])\n",
    "print(\"Type de la variable matrice :\", type(matrice))\n",
    "print(\"Type d'une liste de listes contenant [[1,2,3], [4,5,6]] :\", type([[1,2,3], [4,5,6]]))"
   ]
  },
  {
   "cell_type": "markdown",
   "id": "compressed-foundation",
   "metadata": {},
   "source": [
    "### <center><u> I.4. Utiliser print avec un ndarray </u></center>"
   ]
  },
  {
   "cell_type": "markdown",
   "id": "sporting-channel",
   "metadata": {},
   "source": [
    "#### <center><u> I.4.1. Print un scalaire </u></center>"
   ]
  },
  {
   "cell_type": "code",
   "execution_count": 17,
   "id": "compound-toronto",
   "metadata": {},
   "outputs": [
    {
     "name": "stdout",
     "output_type": "stream",
     "text": [
      "0\n"
     ]
    }
   ],
   "source": [
    "scalaire = np.array(0)\n",
    "print(scalaire)"
   ]
  },
  {
   "cell_type": "markdown",
   "id": "cathedral-psychiatry",
   "metadata": {},
   "source": [
    "#### <center><u> I.4.2. Print un tableau à 1 dimension </u></center>"
   ]
  },
  {
   "cell_type": "code",
   "execution_count": 18,
   "id": "quiet-orlando",
   "metadata": {},
   "outputs": [
    {
     "name": "stdout",
     "output_type": "stream",
     "text": [
      "[ 1  2  3  4  5  6  7  8  9 10]\n"
     ]
    }
   ],
   "source": [
    "vecteur = np.array([1,2,3,4,5,6,7,8,9,10])\n",
    "print(vecteur)"
   ]
  },
  {
   "cell_type": "markdown",
   "id": "driving-andrews",
   "metadata": {},
   "source": [
    "#### <center><u> I.4.2. Print un tableau à 2 dimensions </u></center>"
   ]
  },
  {
   "cell_type": "code",
   "execution_count": 20,
   "id": "filled-vatican",
   "metadata": {},
   "outputs": [
    {
     "name": "stdout",
     "output_type": "stream",
     "text": [
      "[[ 1  2]\n",
      " [ 3  4]\n",
      " [ 5  6]\n",
      " [ 7  8]\n",
      " [ 9 10]]\n"
     ]
    }
   ],
   "source": [
    "matrice = np.array([[1,2], [3,4], [5,6], [7,8], [9,10]])\n",
    "print(matrice)"
   ]
  },
  {
   "cell_type": "markdown",
   "id": "governmental-things",
   "metadata": {},
   "source": [
    "### <center><u> I.5. Connaître les dimensions d'un ndarray </u></center>"
   ]
  },
  {
   "cell_type": "markdown",
   "id": "postal-weapon",
   "metadata": {},
   "source": [
    "Documentation de ndarray.shape : https://numpy.org/devdocs/reference/generated/numpy.ndarray.shape.html#numpy.ndarray.shape\n",
    "\n",
    "L'attribut shape des objets ndarray renvoie un tuple comme ceci : (nombre_de_lignes, nombre_de_colonnes)"
   ]
  },
  {
   "cell_type": "markdown",
   "id": "hungarian-assembly",
   "metadata": {},
   "source": [
    "#### <center><u> I.5.1. Exemple 1 : un scalaire </u></center>"
   ]
  },
  {
   "cell_type": "code",
   "execution_count": 21,
   "id": "entire-thomas",
   "metadata": {},
   "outputs": [
    {
     "data": {
      "text/plain": [
       "()"
      ]
     },
     "execution_count": 21,
     "metadata": {},
     "output_type": "execute_result"
    }
   ],
   "source": [
    "scalaire = np.array(10)\n",
    "scalaire.shape"
   ]
  },
  {
   "cell_type": "markdown",
   "id": "statewide-handbook",
   "metadata": {},
   "source": [
    "Le mot-clé **shape** est un attribut des ndarray et non une méthode. Il ne faut donc pas mettre de parenthèses!"
   ]
  },
  {
   "cell_type": "markdown",
   "id": "breathing-princess",
   "metadata": {},
   "source": [
    "#### <center><u> I.5.2. Exemple 2 : vecteurs </u></center>"
   ]
  },
  {
   "cell_type": "code",
   "execution_count": 25,
   "id": "weighted-incentive",
   "metadata": {},
   "outputs": [
    {
     "data": {
      "text/plain": [
       "(2,)"
      ]
     },
     "execution_count": 25,
     "metadata": {},
     "output_type": "execute_result"
    }
   ],
   "source": [
    "vecteur = np.array([1,2])\n",
    "vecteur.shape"
   ]
  },
  {
   "cell_type": "markdown",
   "id": "optical-george",
   "metadata": {},
   "source": [
    "Le **vecteur ci-dessus contient deux lignes et aucune colonne**. L'attribut shape n'affiche pas 0, mais rien du tout, quand il n'y a pas de données sur une dimension."
   ]
  },
  {
   "cell_type": "code",
   "execution_count": 26,
   "id": "amazing-hardwood",
   "metadata": {},
   "outputs": [
    {
     "data": {
      "text/plain": [
       "(12,)"
      ]
     },
     "execution_count": 26,
     "metadata": {},
     "output_type": "execute_result"
    }
   ],
   "source": [
    "vecteur = np.array([1,2,3,4,5,6,7,8,9,10,11,12])\n",
    "vecteur.shape"
   ]
  },
  {
   "cell_type": "markdown",
   "id": "handy-houston",
   "metadata": {},
   "source": [
    "Le **vecteur ci-dessus contient douze lignes et aucune colonne**."
   ]
  },
  {
   "cell_type": "markdown",
   "id": "certain-grammar",
   "metadata": {},
   "source": [
    "#### <center><u> I.5.3. Exemple 3 : matrices </u></center>"
   ]
  },
  {
   "cell_type": "code",
   "execution_count": 29,
   "id": "polished-voice",
   "metadata": {},
   "outputs": [
    {
     "data": {
      "text/plain": [
       "(3, 3)"
      ]
     },
     "execution_count": 29,
     "metadata": {},
     "output_type": "execute_result"
    }
   ],
   "source": [
    "matrice = np.array([[1,0,0], [0,1,0], [0,0,1]])\n",
    "matrice.shape"
   ]
  },
  {
   "cell_type": "markdown",
   "id": "enabling-marina",
   "metadata": {},
   "source": [
    "La **matrice ci-dessus possède 3 lignes et 3 colonnes**."
   ]
  },
  {
   "cell_type": "code",
   "execution_count": 32,
   "id": "satisfied-stuart",
   "metadata": {},
   "outputs": [
    {
     "data": {
      "text/plain": [
       "(4, 2)"
      ]
     },
     "execution_count": 32,
     "metadata": {},
     "output_type": "execute_result"
    }
   ],
   "source": [
    "matrice = np.array([[1,2], [2,3], [3,4], [4,5]])\n",
    "matrice.shape"
   ]
  },
  {
   "cell_type": "markdown",
   "id": "composite-reform",
   "metadata": {},
   "source": [
    "La **matrice ci-dessus possède 4 lignes et 2 colonnes**."
   ]
  },
  {
   "cell_type": "code",
   "execution_count": 33,
   "id": "variable-american",
   "metadata": {},
   "outputs": [
    {
     "data": {
      "text/plain": [
       "(2, 5)"
      ]
     },
     "execution_count": 33,
     "metadata": {},
     "output_type": "execute_result"
    }
   ],
   "source": [
    "matrice = np.array([[1,2,3,4,5], [6,7,8,9,10]])\n",
    "matrice.shape"
   ]
  },
  {
   "cell_type": "markdown",
   "id": "sitting-shame",
   "metadata": {},
   "source": [
    "La **matrice ci-dessus possède 2 lignes et 5 colonnes**."
   ]
  },
  {
   "cell_type": "markdown",
   "id": "intermediate-shooting",
   "metadata": {},
   "source": [
    "#### <center><u> I.5.4. L'attribut shape </u></center>"
   ]
  },
  {
   "cell_type": "markdown",
   "id": "adolescent-nightmare",
   "metadata": {},
   "source": [
    "L'attribut **shape** étant un **tuple**, il est possible d'accéder à ses éléments grâce à un index.\n",
    "\n",
    "**shape[0]** : indique le nombre de **lignes**\n",
    "\n",
    "**shape[1]** : indique le nombre de **colonnes**"
   ]
  },
  {
   "cell_type": "code",
   "execution_count": 38,
   "id": "expired-semester",
   "metadata": {},
   "outputs": [
    {
     "data": {
      "text/plain": [
       "2"
      ]
     },
     "execution_count": 38,
     "metadata": {},
     "output_type": "execute_result"
    }
   ],
   "source": [
    "matrice = np.array([[1,2,3,4,5], [6,7,8,9,10]])\n",
    "matrice.shape[0]"
   ]
  },
  {
   "cell_type": "markdown",
   "id": "guided-subcommittee",
   "metadata": {},
   "source": [
    "Ci-dessus, on accède au **premier indice** du tuple **shape** qui nous indique que le ndarray associé à la variable matrice contient **2 lignes**."
   ]
  },
  {
   "cell_type": "code",
   "execution_count": 3,
   "id": "established-advance",
   "metadata": {},
   "outputs": [
    {
     "data": {
      "text/plain": [
       "5"
      ]
     },
     "execution_count": 3,
     "metadata": {},
     "output_type": "execute_result"
    }
   ],
   "source": [
    "matrice = np.array([[1,2,3,4,5], [6,7,8,9,10]])\n",
    "matrice.shape[1]"
   ]
  },
  {
   "cell_type": "markdown",
   "id": "presidential-composition",
   "metadata": {},
   "source": [
    "Ci-dessus, on accède au **second indice** du tuple **shape** qui nous indique que le ndarray associé à la variable matrice contient **5 colonnes**."
   ]
  },
  {
   "cell_type": "markdown",
   "id": "typical-kitchen",
   "metadata": {},
   "source": [
    "#### <center><u> I.5.5. Un vecteur avec une seule valeur </u></center>"
   ]
  },
  {
   "cell_type": "markdown",
   "id": "ranking-shaft",
   "metadata": {},
   "source": [
    "Nous avons vu précédemment qu'un **scalaire ne possède pas de dimension**. Il est cependant possible de donner une dimension à un nombre entier. \n",
    "\n",
    "Pour ce faire, il faut l'écrire entre **crochets** []."
   ]
  },
  {
   "cell_type": "code",
   "execution_count": 43,
   "id": "annual-emerald",
   "metadata": {},
   "outputs": [
    {
     "name": "stdout",
     "output_type": "stream",
     "text": [
      "()\n",
      "(1,)\n"
     ]
    }
   ],
   "source": [
    "scalaire = np.array(0)\n",
    "nombre_dimension_1 = np.array([0])\n",
    "print(scalaire.shape)\n",
    "print(nombre_dimension_1.shape)"
   ]
  },
  {
   "cell_type": "markdown",
   "id": "blocked-yellow",
   "metadata": {},
   "source": [
    "Vous pouvez imaginer la valeur donnée par **nombre_dimension_1**, comme **un point sur une ligne**. Autrement dit, comme un point, sur un graphique composé d'une seule dimension.\n",
    "\n",
    "On peut donc constater que **np.array(0) != np.array([0])**"
   ]
  },
  {
   "cell_type": "markdown",
   "id": "revolutionary-pleasure",
   "metadata": {},
   "source": [
    "### <center><u> I.6. Les différences entre un objet list et un objet ndarray </u></center>"
   ]
  },
  {
   "cell_type": "markdown",
   "id": "collected-modern",
   "metadata": {},
   "source": [
    "#### <center><u> 1.6.1. La méthode len() et l'attribut shape </u></center>"
   ]
  },
  {
   "cell_type": "code",
   "execution_count": 45,
   "id": "vietnamese-mentor",
   "metadata": {},
   "outputs": [
    {
     "data": {
      "text/plain": [
       "11"
      ]
     },
     "execution_count": 45,
     "metadata": {},
     "output_type": "execute_result"
    }
   ],
   "source": [
    "liste = [-5,-4,-3,-2,-1,0,1,2,3,4,5]\n",
    "len(liste)"
   ]
  },
  {
   "cell_type": "markdown",
   "id": "variable-daniel",
   "metadata": {},
   "source": [
    "Pour connaître sa **longueur** on utilise la méthode **len()** qui prend en paramètre la liste.\n",
    "\n",
    "La liste ci-dessus possède **11 éléments**.\n",
    "\n",
    "On va à présent créer une liste à 2 dimensions."
   ]
  },
  {
   "cell_type": "code",
   "execution_count": 46,
   "id": "lightweight-ethiopia",
   "metadata": {},
   "outputs": [
    {
     "data": {
      "text/plain": [
       "2"
      ]
     },
     "execution_count": 46,
     "metadata": {},
     "output_type": "execute_result"
    }
   ],
   "source": [
    "liste = [[-3,-2,-1], [1, 2, 3]]\n",
    "len(liste)"
   ]
  },
  {
   "cell_type": "markdown",
   "id": "approximate-editor",
   "metadata": {},
   "source": [
    "Python nous indique que la liste ci-dessus possède **2 éléments**. En effet, la variable liste est une liste qui contient 2 listes. Ici, la variable len() nous indique combien de sous-listes sont contenues dans la variable liste.\n",
    "\n",
    "On ne peut donc pas obtenir simplement le nombre de colonnes qui sont dans les listes internes, alors que pour un ndarray, l'attribut **shape** nous donne toutes les informations dont nous avons besoin sur **les dimensions de l'objet**.\n",
    "\n",
    "Ci-dessous, on va instancier un ndarray avec la liste ci-dessus, et utiliser l'attribut shape pour connaître ses dimensions."
   ]
  },
  {
   "cell_type": "code",
   "execution_count": 50,
   "id": "basic-prior",
   "metadata": {},
   "outputs": [
    {
     "data": {
      "text/plain": [
       "(2, 3)"
      ]
     },
     "execution_count": 50,
     "metadata": {},
     "output_type": "execute_result"
    }
   ],
   "source": [
    "matrice = np.array([[-3,-2,-1], [1, 2, 3]])\n",
    "matrice.shape"
   ]
  },
  {
   "cell_type": "markdown",
   "id": "dental-governor",
   "metadata": {},
   "source": [
    "#### <center><u> I.6.2. L'opérateur somme : + </u></center>"
   ]
  },
  {
   "cell_type": "markdown",
   "id": "activated-character",
   "metadata": {},
   "source": [
    "L'utilisation de l'opérateur **somme** sur deux listes va effectuer une **concaténation** des deux listes."
   ]
  },
  {
   "cell_type": "code",
   "execution_count": 52,
   "id": "married-disability",
   "metadata": {},
   "outputs": [
    {
     "data": {
      "text/plain": [
       "[1, 2, 3, 4, 5, 6]"
      ]
     },
     "execution_count": 52,
     "metadata": {},
     "output_type": "execute_result"
    }
   ],
   "source": [
    "liste_1 = [1,2,3]\n",
    "liste_2 = [4,5,6]\n",
    "liste_1 + liste_2"
   ]
  },
  {
   "cell_type": "markdown",
   "id": "eight-heater",
   "metadata": {},
   "source": [
    "L'utilisateur de l'opérateur **somme** sur deux ndarray va procéder à une **addition**.\n",
    "\n",
    "Commençons par une somme entre deux éléments de dimension 0."
   ]
  },
  {
   "cell_type": "code",
   "execution_count": 53,
   "id": "extraordinary-integer",
   "metadata": {},
   "outputs": [
    {
     "name": "stdout",
     "output_type": "stream",
     "text": [
      "1 + 2 = 3\n"
     ]
    }
   ],
   "source": [
    "scalaire_1 = np.array(1)\n",
    "scalaire_2 = np.array(2)\n",
    "somme_scalaire = scalaire_1 + scalaire_2\n",
    "print(scalaire_1, \"+\", scalaire_2, \"=\", somme_scalaire)"
   ]
  },
  {
   "cell_type": "markdown",
   "id": "dangerous-rubber",
   "metadata": {},
   "source": [
    "**Somme entre deux vecteurs** représentés par des ndarray."
   ]
  },
  {
   "cell_type": "code",
   "execution_count": 54,
   "id": "romance-circulation",
   "metadata": {},
   "outputs": [
    {
     "name": "stdout",
     "output_type": "stream",
     "text": [
      "[1 2 3] + [-1 -2 -3] = [0 0 0]\n"
     ]
    }
   ],
   "source": [
    "vecteur_1 = np.array([1, 2, 3])\n",
    "vecteur_2 = np.array([-1, -2, -3])\n",
    "somme_vecteur = vecteur_1 + vecteur_2\n",
    "print(vecteur_1, \"+\", vecteur_2, \"=\", somme_vecteur)"
   ]
  },
  {
   "cell_type": "markdown",
   "id": "distant-warehouse",
   "metadata": {},
   "source": [
    "**Somme entre deux matrices** représentées par des ndarray"
   ]
  },
  {
   "cell_type": "code",
   "execution_count": 61,
   "id": "considered-pressure",
   "metadata": {},
   "outputs": [
    {
     "name": "stdout",
     "output_type": "stream",
     "text": [
      "[[1 0 0]\n",
      " [0 1 0]\n",
      " [0 0 1]]\n",
      "    +\n",
      "[[1 0 0]\n",
      " [0 1 0]\n",
      " [0 0 1]]\n",
      "    =\n",
      "[[2 0 0]\n",
      " [0 2 0]\n",
      " [0 0 2]]\n"
     ]
    }
   ],
   "source": [
    "matrice_1 = np.array([[1,0,0], [0,1,0], [0,0,1]])\n",
    "matrice_2 = np.array([[1,0,0], [0,1,0], [0,0,1]])\n",
    "somme_matrice = matrice_1 + matrice_2\n",
    "print(matrice_1)\n",
    "print(\"    +\")\n",
    "print(matrice_2)\n",
    "print(\"    =\")\n",
    "print(somme_matrice)"
   ]
  },
  {
   "cell_type": "markdown",
   "id": "sunset-particular",
   "metadata": {},
   "source": [
    "#### <center><u> I.6.3. Les fonctions mathématiques </u></center>"
   ]
  },
  {
   "cell_type": "markdown",
   "id": "rational-budapest",
   "metadata": {},
   "source": [
    "**Appliquer une fonction mathématique à une liste**, par exemple la fonction log(), **ne fonctionne tout simplement pas**."
   ]
  },
  {
   "cell_type": "code",
   "execution_count": 63,
   "id": "systematic-clause",
   "metadata": {},
   "outputs": [
    {
     "ename": "TypeError",
     "evalue": "must be real number, not list",
     "output_type": "error",
     "traceback": [
      "\u001b[1;31m---------------------------------------------------------------------------\u001b[0m",
      "\u001b[1;31mTypeError\u001b[0m                                 Traceback (most recent call last)",
      "\u001b[1;32m<ipython-input-63-422dee311c41>\u001b[0m in \u001b[0;36m<module>\u001b[1;34m\u001b[0m\n\u001b[0;32m      2\u001b[0m \u001b[1;33m\u001b[0m\u001b[0m\n\u001b[0;32m      3\u001b[0m \u001b[0mliste\u001b[0m \u001b[1;33m=\u001b[0m \u001b[1;33m[\u001b[0m\u001b[1;36m1\u001b[0m\u001b[1;33m,\u001b[0m\u001b[1;36m2\u001b[0m\u001b[1;33m,\u001b[0m\u001b[1;36m3\u001b[0m\u001b[1;33m,\u001b[0m\u001b[1;36m4\u001b[0m\u001b[1;33m]\u001b[0m\u001b[1;33m\u001b[0m\u001b[1;33m\u001b[0m\u001b[0m\n\u001b[1;32m----> 4\u001b[1;33m \u001b[0mlog\u001b[0m\u001b[1;33m(\u001b[0m\u001b[0mliste\u001b[0m\u001b[1;33m)\u001b[0m\u001b[1;33m\u001b[0m\u001b[1;33m\u001b[0m\u001b[0m\n\u001b[0m",
      "\u001b[1;31mTypeError\u001b[0m: must be real number, not list"
     ]
    }
   ],
   "source": [
    "from math import log\n",
    "\n",
    "liste = [1,2,3,4]\n",
    "log(liste)"
   ]
  },
  {
   "cell_type": "markdown",
   "id": "affected-hepatitis",
   "metadata": {},
   "source": [
    "Tandis que pour un **ndarray**, cela va **appliquer la fonction à tous les éléments** et **renvoyer un ndarray**.\n",
    "\n",
    "Ici, on fait appel à la méthode log provenant du module np et non le module math."
   ]
  },
  {
   "cell_type": "code",
   "execution_count": 66,
   "id": "wireless-marketing",
   "metadata": {},
   "outputs": [
    {
     "data": {
      "text/plain": [
       "array([0.        , 0.69314718, 1.09861229, 1.38629436])"
      ]
     },
     "execution_count": 66,
     "metadata": {},
     "output_type": "execute_result"
    }
   ],
   "source": [
    "vecteur = np.array([1,2,3,4])\n",
    "np.log(vecteur)"
   ]
  },
  {
   "cell_type": "markdown",
   "id": "outstanding-justice",
   "metadata": {},
   "source": [
    "On peut le tester avec une autre fonction, par exemple, la fonction **sqrt()** qui permet de calculer la **racine carrée** (square root) d'un nombre ou d'un ndarray."
   ]
  },
  {
   "cell_type": "code",
   "execution_count": 68,
   "id": "palestinian-accounting",
   "metadata": {},
   "outputs": [
    {
     "data": {
      "text/plain": [
       "array([[1.        , 1.41421356, 1.73205081],\n",
       "       [2.        , 2.23606798, 2.44948974],\n",
       "       [2.64575131, 2.82842712, 3.        ]])"
      ]
     },
     "execution_count": 68,
     "metadata": {},
     "output_type": "execute_result"
    }
   ],
   "source": [
    "vecteur = np.array([[1,2,3], [4,5,6], [7,8,9]])\n",
    "np.sqrt(vecteur)"
   ]
  },
  {
   "cell_type": "markdown",
   "id": "postal-calculation",
   "metadata": {},
   "source": [
    "#### <center><u> I.6.4. La longueur </u></center>"
   ]
  },
  {
   "cell_type": "markdown",
   "id": "worthy-helen",
   "metadata": {},
   "source": [
    "Une liste peut contenir des **listes ayant des longueurs différentes**."
   ]
  },
  {
   "cell_type": "code",
   "execution_count": 69,
   "id": "anticipated-making",
   "metadata": {},
   "outputs": [
    {
     "data": {
      "text/plain": [
       "[[1, 2], [1, 2, 3], [1, 2, 3, 4]]"
      ]
     },
     "execution_count": 69,
     "metadata": {},
     "output_type": "execute_result"
    }
   ],
   "source": [
    "liste_de_listes = [[1,2], [1,2,3], [1,2,3,4]]\n",
    "liste_de_listes"
   ]
  },
  {
   "cell_type": "markdown",
   "id": "binding-fishing",
   "metadata": {},
   "source": [
    "Dans un ndarray à 2 dimensions, **tous les éléments doivent être de mêmes dimensions**, sinon cela provoque une erreur."
   ]
  },
  {
   "cell_type": "code",
   "execution_count": 71,
   "id": "individual-bulletin",
   "metadata": {},
   "outputs": [
    {
     "name": "stderr",
     "output_type": "stream",
     "text": [
      "<ipython-input-71-6ff51e93aea5>:1: VisibleDeprecationWarning: Creating an ndarray from ragged nested sequences (which is a list-or-tuple of lists-or-tuples-or ndarrays with different lengths or shapes) is deprecated. If you meant to do this, you must specify 'dtype=object' when creating the ndarray.\n",
      "  matrice_erreur = np.array([[1,2], [1,2,3], [1,2,3,4]])\n"
     ]
    },
    {
     "data": {
      "text/plain": [
       "array([list([1, 2]), list([1, 2, 3]), list([1, 2, 3, 4])], dtype=object)"
      ]
     },
     "execution_count": 71,
     "metadata": {},
     "output_type": "execute_result"
    }
   ],
   "source": [
    "matrice_erreur = np.array([[1,2], [1,2,3], [1,2,3,4]])\n",
    "matrice_erreur"
   ]
  }
 ],
 "metadata": {
  "kernelspec": {
   "display_name": "Python 3",
   "language": "python",
   "name": "python3"
  },
  "language_info": {
   "codemirror_mode": {
    "name": "ipython",
    "version": 3
   },
   "file_extension": ".py",
   "mimetype": "text/x-python",
   "name": "python",
   "nbconvert_exporter": "python",
   "pygments_lexer": "ipython3",
   "version": "3.9.2"
  }
 },
 "nbformat": 4,
 "nbformat_minor": 5
}
