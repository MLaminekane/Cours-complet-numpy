{
 "cells": [
  {
   "cell_type": "markdown",
   "id": "surrounded-leather",
   "metadata": {},
   "source": [
    "Ne pas oublier **d'exécuter la cellule ci-dessous** pour importer Numpy!"
   ]
  },
  {
   "cell_type": "code",
   "execution_count": 3,
   "id": "multiple-utility",
   "metadata": {},
   "outputs": [],
   "source": [
    "import numpy as np"
   ]
  },
  {
   "cell_type": "markdown",
   "id": "substantial-assignment",
   "metadata": {},
   "source": [
    "# I.1. Solution de l'exercice 1"
   ]
  },
  {
   "cell_type": "markdown",
   "id": "lined-ordinary",
   "metadata": {},
   "source": [
    "- Créez **deux scalaires** qui ont respectivement pour valeur 5 et 6, et additionnez-les.\n",
    "\n",
    "- Afficher le **résultat** dans une fonction **print()**."
   ]
  },
  {
   "cell_type": "markdown",
   "id": "subjective-lunch",
   "metadata": {},
   "source": [
    "### <center><u>I.1.1. Solution 1 de l'exercice 1</u></center>"
   ]
  },
  {
   "cell_type": "code",
   "execution_count": 4,
   "id": "found-monthly",
   "metadata": {},
   "outputs": [
    {
     "name": "stdout",
     "output_type": "stream",
     "text": [
      "11\n"
     ]
    }
   ],
   "source": [
    "scalaire_1 = np.array(5)\n",
    "scalaire_2 = np.array(6)\n",
    "resultat = scalaire_1 + scalaire_2\n",
    "\n",
    "print(resultat)"
   ]
  },
  {
   "cell_type": "markdown",
   "id": "turkish-semester",
   "metadata": {},
   "source": [
    "### <center><u>I.1.2. Solution 2 de l'exercice 1</u></center>"
   ]
  },
  {
   "cell_type": "code",
   "execution_count": 6,
   "id": "arctic-quality",
   "metadata": {},
   "outputs": [
    {
     "name": "stdout",
     "output_type": "stream",
     "text": [
      "11\n"
     ]
    }
   ],
   "source": [
    "resultat = np.array(5) + np.array(6)\n",
    "\n",
    "print(resultat)"
   ]
  },
  {
   "cell_type": "markdown",
   "id": "lesser-bahrain",
   "metadata": {},
   "source": [
    "### <center><u>I.1.3. Solution 3 de l'exercice 1</u></center>"
   ]
  },
  {
   "cell_type": "markdown",
   "id": "hungry-reconstruction",
   "metadata": {},
   "source": [
    "Une solution **plus concise**, qui tient en une ligne, mais qui est **moins lisible**."
   ]
  },
  {
   "cell_type": "code",
   "execution_count": 7,
   "id": "absolute-electricity",
   "metadata": {},
   "outputs": [
    {
     "name": "stdout",
     "output_type": "stream",
     "text": [
      "11\n"
     ]
    }
   ],
   "source": [
    "print(np.array(5) + np.array(6))"
   ]
  },
  {
   "cell_type": "markdown",
   "id": "exceptional-bryan",
   "metadata": {},
   "source": [
    "# I.2. Solution de l'exercice 2"
   ]
  },
  {
   "cell_type": "markdown",
   "id": "excessive-colonial",
   "metadata": {},
   "source": [
    "- Créez **trois vecteurs** qui ont pour valeur : [1,2,3], [3,2,1] et [0,1,-1], et additionnez-les.\n",
    "\n",
    "- Afficher le **résultat** dans une fonction **print()**.\n",
    "\n",
    "- Afficher en-dessous **la dimension** de ce vecteur."
   ]
  },
  {
   "cell_type": "markdown",
   "id": "fleet-wisconsin",
   "metadata": {},
   "source": [
    "### <center><u>I.2.1. Solution 1 de l'exercice 2</u></center>"
   ]
  },
  {
   "cell_type": "markdown",
   "id": "early-latin",
   "metadata": {},
   "source": [
    "**Solution verbeuse mais explicite**, qui nous permet d'avoir **tous les vecteurs et le résultat en mémoire**.\n",
    "\n",
    "C'est la solution que je préfère."
   ]
  },
  {
   "cell_type": "code",
   "execution_count": 11,
   "id": "optical-floating",
   "metadata": {},
   "outputs": [
    {
     "name": "stdout",
     "output_type": "stream",
     "text": [
      "[4 5 3]\n",
      "(3,)\n"
     ]
    }
   ],
   "source": [
    "vecteur1 = np.array([1,2,3])\n",
    "vecteur2 = np.array([3,2,1])\n",
    "vecteur3 = np.array([0,1,-1])\n",
    "\n",
    "resultat = vecteur1 + vecteur2 + vecteur3\n",
    "print(resultat)\n",
    "print(resultat.shape)"
   ]
  },
  {
   "cell_type": "markdown",
   "id": "combined-screw",
   "metadata": {},
   "source": [
    "### <center><u>I.2.2. Solution 2 de l'exercice 2</u></center>"
   ]
  },
  {
   "cell_type": "markdown",
   "id": "anonymous-trainer",
   "metadata": {},
   "source": [
    "Ici, on instancie tous nos vecteurs sur une seule ligne.\n",
    "\n",
    "Comme on n'a pas stocké le résultat dans une variable, il faut **réeffectuer l'addition** pour afficher la **dimension du vecteur**. Remarquez qu'on peut, grâce aux **parenthèses**, utiliser l'attribut **shape** sur l'addition elle-même.\n",
    "\n",
    "**Cette solution n'est pas très jolie**, ni pythonique, mais je voulais que vous la voyez pour que vous puissiez entrevoir le champs des possibles avec Python et Numpy."
   ]
  },
  {
   "cell_type": "code",
   "execution_count": 12,
   "id": "offensive-membrane",
   "metadata": {},
   "outputs": [
    {
     "name": "stdout",
     "output_type": "stream",
     "text": [
      "[4 5 3]\n",
      "(3,)\n"
     ]
    }
   ],
   "source": [
    "vecteur1, vecteur2, vecteur3 = np.array([1,2,3]), np.array([3,2,1]), np.array([0,1,-1])\n",
    "\n",
    "print(vecteur1 + vecteur2 + vecteur3)\n",
    "print((vecteur1 + vecteur2 + vecteur3).shape)"
   ]
  },
  {
   "cell_type": "markdown",
   "id": "acting-pacific",
   "metadata": {},
   "source": [
    "### <center><u>I.2.3. Solution 3 de l'exercice 2</u></center>"
   ]
  },
  {
   "cell_type": "markdown",
   "id": "international-rental",
   "metadata": {},
   "source": [
    "Cette solution est intéressante car **elle fait un compromis entre une solution très verbeuse et une solution trop courte**. Cependant, le fait de ne pas garder en mémoire les vecteurs individuellement peut poser problème si on veut les réutiliser plus tard."
   ]
  },
  {
   "cell_type": "code",
   "execution_count": 13,
   "id": "compact-warner",
   "metadata": {},
   "outputs": [
    {
     "name": "stdout",
     "output_type": "stream",
     "text": [
      "[4 5 3]\n",
      "(3,)\n"
     ]
    }
   ],
   "source": [
    "resultat = np.array([1,2,3]) + np.array([3,2,1]) + np.array([0,1,-1])\n",
    "\n",
    "print(resultat)\n",
    "print(resultat.shape)"
   ]
  },
  {
   "cell_type": "markdown",
   "id": "consolidated-channels",
   "metadata": {},
   "source": [
    "# I.3. Solution de l'exercice 3"
   ]
  },
  {
   "cell_type": "markdown",
   "id": "personal-material",
   "metadata": {},
   "source": [
    "- Créez un **scalaire** qui a pour valeur : 0\n",
    "- Créez un **vecteur** qui a pour valeur : [125, 2185, 321, 665, 17, -8]\n",
    "- **Multipliez le scalaire et le vecteur** (Pour cela, il faut utiliser l'opérateur *)\n",
    "- Affichez le résultat avec la fonction **print()**\n",
    "- **Que constatez-vous?**"
   ]
  },
  {
   "cell_type": "code",
   "execution_count": 15,
   "id": "given-grave",
   "metadata": {},
   "outputs": [
    {
     "name": "stdout",
     "output_type": "stream",
     "text": [
      "[0 0 0 0 0 0]\n"
     ]
    }
   ],
   "source": [
    "scalaire = np.array(0)\n",
    "vecteur = np.array([125, 2185, 321, 665, 17, -8])\n",
    "resultat = scalaire * vecteur\n",
    "\n",
    "print(resultat)"
   ]
  },
  {
   "cell_type": "markdown",
   "id": "blessed-effort",
   "metadata": {},
   "source": [
    "Le résultat est un **vecteur qui a la même dimension que le vecteur contenu dans la variable vecteur**. Tous ses éléments sont à 0, car tous ses éléments ont été multipliés par le scalaire (qui a une valeur de 0)."
   ]
  },
  {
   "cell_type": "markdown",
   "id": "stainless-burns",
   "metadata": {},
   "source": [
    "# I.4. Solution de l'exercice 4"
   ]
  },
  {
   "cell_type": "markdown",
   "id": "charming-experiment",
   "metadata": {},
   "source": [
    "Une matrice de dimension 2x3, signifie qu'elle possède 2 lignes et 3 colonnes."
   ]
  },
  {
   "cell_type": "code",
   "execution_count": 17,
   "id": "valid-madagascar",
   "metadata": {},
   "outputs": [
    {
     "name": "stdout",
     "output_type": "stream",
     "text": [
      "(2, 3)\n"
     ]
    }
   ],
   "source": [
    "m = np.array([[1,2,3], [4,5,6]])\n",
    "print(m.shape)"
   ]
  },
  {
   "cell_type": "markdown",
   "id": "broken-yellow",
   "metadata": {},
   "source": [
    "L'objet np.array doit contenir 2 vecteurs qui contiennent chacuns trois valeurs"
   ]
  },
  {
   "cell_type": "markdown",
   "id": "abstract-johnston",
   "metadata": {},
   "source": [
    "# I.5. Solution de l'exercice 5"
   ]
  },
  {
   "cell_type": "markdown",
   "id": "first-scope",
   "metadata": {},
   "source": [
    "Une matrice de dimension 4x2 signifie qu'elle possède 4 lignes et 2 colonnes."
   ]
  },
  {
   "cell_type": "code",
   "execution_count": 18,
   "id": "pretty-integration",
   "metadata": {},
   "outputs": [
    {
     "name": "stdout",
     "output_type": "stream",
     "text": [
      "[[9 9]\n",
      " [9 9]\n",
      " [9 9]\n",
      " [9 9]]\n"
     ]
    }
   ],
   "source": [
    "m1 = np.array([[1,2], [3,4], [5,6], [7,8]])\n",
    "m2 = np.array([[8,7], [6,5], [4,3], [2,1]])\n",
    "resultat = m1 + m2\n",
    "print(resultat)"
   ]
  },
  {
   "cell_type": "markdown",
   "id": "strong-antique",
   "metadata": {},
   "source": [
    "On obtient **une matrice de dimension 4x2**. Chaque élément à la position (m,n) de la première matrice a été additionné avec l'élément à la position (m,n) de la seconde matrice.\n",
    "\n",
    "On peut vérifier avec l'attribut **shape** que c'est bien une matrice de dimension 4x2."
   ]
  },
  {
   "cell_type": "code",
   "execution_count": 19,
   "id": "parliamentary-harris",
   "metadata": {},
   "outputs": [
    {
     "name": "stdout",
     "output_type": "stream",
     "text": [
      "(4, 2)\n"
     ]
    }
   ],
   "source": [
    "m1 = np.array([[1,2], [3,4], [5,6], [7,8]])\n",
    "m2 = np.array([[8,7], [6,5], [4,3], [2,1]])\n",
    "resultat = m1 + m2\n",
    "print(resultat.shape)"
   ]
  },
  {
   "cell_type": "markdown",
   "id": "binding-pencil",
   "metadata": {},
   "source": [
    "# I.6. Solution de l'exercice 6"
   ]
  },
  {
   "cell_type": "markdown",
   "id": "national-argentina",
   "metadata": {},
   "source": [
    "### <center><u>I.6.1. Solution 1 de l'exercice 6</u></center>"
   ]
  },
  {
   "cell_type": "code",
   "execution_count": 20,
   "id": "abstract-booth",
   "metadata": {},
   "outputs": [
    {
     "name": "stdout",
     "output_type": "stream",
     "text": [
      "[25.5 48. ]\n"
     ]
    }
   ],
   "source": [
    "#2. On définit les vecteurs\n",
    "v1 = np.array([4,7])\n",
    "v2 = np.array([3,6])\n",
    "\n",
    "#3. On définit les scalaires\n",
    "a1 = np.array(2)\n",
    "a2 = np.array(3)\n",
    "a3 = np.array(1.5)\n",
    "\n",
    "#4. On multiplie le vecteur v1 par a1\n",
    "v1 = v1 * a1\n",
    "\n",
    "#5. On multiplie le vecteur v2 par a2\n",
    "v2 = v2 * a2\n",
    "\n",
    "#6. Addition des deux vecteurs\n",
    "v3 = v1 + v2\n",
    "\n",
    "#7. On multiplie le vecteur v3 par a3\n",
    "resultat = v3 * a3\n",
    "\n",
    "#8. On affiche le résultat\n",
    "print(resultat)"
   ]
  },
  {
   "cell_type": "markdown",
   "id": "dramatic-terrain",
   "metadata": {},
   "source": [
    "On obtient le **vecteur de dimension 2** : [25.5, 48]"
   ]
  },
  {
   "cell_type": "markdown",
   "id": "funny-circle",
   "metadata": {},
   "source": [
    "### <center><u>I.6.2. Solution 2 de l'exercice 6</u></center>"
   ]
  },
  {
   "cell_type": "markdown",
   "id": "living-watershed",
   "metadata": {},
   "source": [
    "Dans ce code, on déclare les vecteurs et les scalaires sur une seule ligne.\n",
    "\n",
    "On utilise l'opérateur ***=** pour **multiplier** chaque vecteur par le scalaire correspondant.\n",
    "\n",
    "**Rappel :** v3 = v3 * a3 est équivalent à v3 *= a3"
   ]
  },
  {
   "cell_type": "code",
   "execution_count": 23,
   "id": "mental-hostel",
   "metadata": {},
   "outputs": [
    {
     "name": "stdout",
     "output_type": "stream",
     "text": [
      "[25.5 48. ]\n"
     ]
    }
   ],
   "source": [
    "#2. On définit les vecteurs\n",
    "v1, v2 = np.array([4,7]), np.array([3,6])\n",
    "\n",
    "#3. On définit les scalaires\n",
    "a1, a2, a3 = np.array(2), np.array(3), np.array(1.5)\n",
    "\n",
    "#4. On multiplie le vecteur v1 par a1\n",
    "v1 *= a1\n",
    "\n",
    "#5. On multiplie le vecteur v2 par a2\n",
    "v2 *= a2\n",
    "\n",
    "#6. Addition des deux vecteurs\n",
    "v3 = v1 + v2\n",
    "\n",
    "#7. On multiplie le vecteur v3 par a3\n",
    "resultat = v3 * a3\n",
    "\n",
    "#8. On affiche le résultat\n",
    "print(resultat)"
   ]
  },
  {
   "cell_type": "markdown",
   "id": "compound-johnston",
   "metadata": {},
   "source": [
    "**Le même code sans les commentaires.**"
   ]
  },
  {
   "cell_type": "code",
   "execution_count": 24,
   "id": "surprising-version",
   "metadata": {},
   "outputs": [
    {
     "name": "stdout",
     "output_type": "stream",
     "text": [
      "[25.5 48. ]\n"
     ]
    }
   ],
   "source": [
    "v1, v2 = np.array([4,7]), np.array([3,6])\n",
    "a1, a2, a3 = np.array(2), np.array(3), np.array(1.5)\n",
    "v1 *= a1\n",
    "v2 *= a2\n",
    "v3 = v1 + v2\n",
    "resultat = v3 * a3\n",
    "print(resultat)"
   ]
  }
 ],
 "metadata": {
  "kernelspec": {
   "display_name": "Python 3",
   "language": "python",
   "name": "python3"
  },
  "language_info": {
   "codemirror_mode": {
    "name": "ipython",
    "version": 3
   },
   "file_extension": ".py",
   "mimetype": "text/x-python",
   "name": "python",
   "nbconvert_exporter": "python",
   "pygments_lexer": "ipython3",
   "version": "3.9.2"
  }
 },
 "nbformat": 4,
 "nbformat_minor": 5
}
