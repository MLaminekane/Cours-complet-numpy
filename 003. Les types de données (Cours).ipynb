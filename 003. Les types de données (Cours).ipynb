{
 "cells": [
  {
   "cell_type": "markdown",
   "id": "corresponding-campaign",
   "metadata": {},
   "source": [
    "# <center>III. Les types de données</center>"
   ]
  },
  {
   "cell_type": "markdown",
   "id": "nasty-nickname",
   "metadata": {},
   "source": [
    "**Ne pas oublier d'exécuter l'import de Numpy** ci-dessous!"
   ]
  },
  {
   "cell_type": "code",
   "execution_count": 2,
   "id": "greek-jewel",
   "metadata": {},
   "outputs": [],
   "source": [
    "import numpy as np"
   ]
  },
  {
   "cell_type": "markdown",
   "id": "ahead-province",
   "metadata": {},
   "source": [
    "**Informations sur les types de données**:\n",
    "\n",
    "- Documentation Numpy : https://numpy.org/devdocs/user/basics.types.html\n",
    "- Documentation Numpy : https://numpy.org/doc/stable/reference/generated/numpy.dtype.kind.html\n",
    "- W3Schools : https://www.w3schools.com/python/numpy/numpy_data_types.asp\n"
   ]
  },
  {
   "cell_type": "markdown",
   "id": "essential-magnitude",
   "metadata": {},
   "source": [
    "Nous allons voir les **types de données** que vous pouvez utiliser pour **déclarer des ndarray** avec Numpy.\n",
    "\n",
    "Numpy trouvant ses fondations dans le langage de programmation C, les types de données que ce module manipule sont similaires à ce langage."
   ]
  },
  {
   "cell_type": "code",
   "execution_count": 17,
   "id": "defined-continent",
   "metadata": {},
   "outputs": [
    {
     "data": {
      "text/plain": [
       "dtype('int32')"
      ]
     },
     "execution_count": 17,
     "metadata": {},
     "output_type": "execute_result"
    }
   ],
   "source": [
    "matrice = np.array([[1,2], [3,4]])\n",
    "matrice.dtype"
   ]
  },
  {
   "cell_type": "markdown",
   "id": "intelligent-massachusetts",
   "metadata": {},
   "source": [
    "Le type des éléments que contient le vecteur précédent est **int32**. C'est-à-dire des **nombres entiers** prenant chacun **32 bits** d'espace en mémoire."
   ]
  },
  {
   "cell_type": "markdown",
   "id": "agricultural-release",
   "metadata": {},
   "source": [
    "# <center>Changer le type de données</center>"
   ]
  },
  {
   "cell_type": "markdown",
   "id": "grand-system",
   "metadata": {},
   "source": [
    "Pour changer **le type de données** d'un ndarray, on peut affecter une valeur au paramètre **dtype** de la méthode array provenant du module numpy. Cette valeur doit être une **chaîne de caractères** (type str en Python) ou un objet de type np.type_de_données.\n",
    "\n",
    "La liste des valeurs possibles (les types de données) est disponible plus haut dans ce notebook (lien vers la documentatiton)."
   ]
  },
  {
   "cell_type": "markdown",
   "id": "driving-sense",
   "metadata": {},
   "source": [
    "### <center><u>1er exemple : déclarer un ndarray de type uint </u></center>"
   ]
  },
  {
   "cell_type": "code",
   "execution_count": 16,
   "id": "sporting-basketball",
   "metadata": {},
   "outputs": [
    {
     "data": {
      "text/plain": [
       "dtype('uint32')"
      ]
     },
     "execution_count": 16,
     "metadata": {},
     "output_type": "execute_result"
    }
   ],
   "source": [
    "matrice = np.array([[1,2], [3,4]], dtype=\"uint\")\n",
    "matrice.dtype"
   ]
  },
  {
   "cell_type": "markdown",
   "id": "refined-ceremony",
   "metadata": {},
   "source": [
    "Dans l'exemple ci-dessus, nous avons déclaré un **dtype** égal à \"**uint32**\". \"uint32\" est un type autorisant les **nombres entiers positifs** prenant **32 bits** en mémoire. Par exemple, si on essaie d''affecter une valeur négative à un de ses éléments, cet élément se verra affecter une valeur délirante."
   ]
  },
  {
   "cell_type": "code",
   "execution_count": 15,
   "id": "amino-testing",
   "metadata": {},
   "outputs": [
    {
     "name": "stdout",
     "output_type": "stream",
     "text": [
      "[[4294967295          2]\n",
      " [         3          4]]\n"
     ]
    }
   ],
   "source": [
    "matrice = np.array([[-1,2], [3,4]], dtype=np.uint)\n",
    "print(matrice)"
   ]
  },
  {
   "cell_type": "markdown",
   "id": "continued-budget",
   "metadata": {},
   "source": [
    "Dans l'exemple ci-dessus, on déclare la valeur du premier élément à -1, et le **dtype** est égal à **uint**. Au final, cet élément a pour valeur un nombre immense : 4294967295\n",
    "\n",
    "**Remarque** : on a déclaré le type uint en affectant à **dtype** l'objet **np.uint**.\n",
    "\n",
    "Cela me permet de mettre en avant un message important : **Faîtes très attention aux types de données que vous manipulez!**"
   ]
  },
  {
   "cell_type": "markdown",
   "id": "young-scott",
   "metadata": {},
   "source": [
    "### <center><u> 2ème exemple : déclarer un ndarray de type float32</u></center>"
   ]
  },
  {
   "cell_type": "markdown",
   "id": "every-gateway",
   "metadata": {},
   "source": [
    "Cette fois, déclarons un ndarray de type \"**float32**\". Cela signifie que l'on désire manipuler des nombres flottants (des nombres à virgule)."
   ]
  },
  {
   "cell_type": "code",
   "execution_count": 14,
   "id": "increasing-extension",
   "metadata": {},
   "outputs": [
    {
     "name": "stdout",
     "output_type": "stream",
     "text": [
      "float32\n",
      "[[-1.  2.]\n",
      " [ 3.  4.]]\n"
     ]
    }
   ],
   "source": [
    "matrice = np.array([[-1,2], [3,4]], dtype=\"float32\")\n",
    "print(matrice.dtype)\n",
    "print(matrice)"
   ]
  },
  {
   "cell_type": "markdown",
   "id": "lonely-amsterdam",
   "metadata": {},
   "source": [
    "Vous voyez qu'un point a été ajouté à chaque élément."
   ]
  },
  {
   "cell_type": "markdown",
   "id": "czech-vessel",
   "metadata": {},
   "source": [
    "### <center><u>3ème exemple : déclarer un ndarray de nombres complexes</u></center>"
   ]
  },
  {
   "cell_type": "markdown",
   "id": "provincial-ancient",
   "metadata": {},
   "source": [
    "Un nombre complexe est un nombre qui possède une partie réelle et imaginaire. Numpy est capable de les manipuler."
   ]
  },
  {
   "cell_type": "code",
   "execution_count": 20,
   "id": "fiscal-observation",
   "metadata": {},
   "outputs": [
    {
     "data": {
      "text/plain": [
       "array([[-1.+0.j,  2.+0.j],\n",
       "       [ 3.+0.j,  4.+0.j]], dtype=complex64)"
      ]
     },
     "execution_count": 20,
     "metadata": {},
     "output_type": "execute_result"
    }
   ],
   "source": [
    "matrice = np.array([[-1,2], [3,4]], dtype=np.complex64)\n",
    "matrice"
   ]
  },
  {
   "cell_type": "markdown",
   "id": "married-municipality",
   "metadata": {},
   "source": [
    "Ici, le j a été ajouté à chaque élément et représente la partie imaginaire des nombres complexes de la matrice."
   ]
  },
  {
   "cell_type": "markdown",
   "id": "temporal-williams",
   "metadata": {},
   "source": [
    "### <center><u>4ème exemple : déclarer un ndarray de booléens</u></center>"
   ]
  },
  {
   "cell_type": "code",
   "execution_count": 22,
   "id": "reported-springer",
   "metadata": {},
   "outputs": [
    {
     "data": {
      "text/plain": [
       "array([[ True,  True],\n",
       "       [ True,  True]])"
      ]
     },
     "execution_count": 22,
     "metadata": {},
     "output_type": "execute_result"
    }
   ],
   "source": [
    "matrice = np.array([[-1,2], [3,4]], dtype=np.bool_)\n",
    "matrice"
   ]
  },
  {
   "cell_type": "markdown",
   "id": "premium-stevens",
   "metadata": {},
   "source": [
    "Le dtype np.bool est déprécié depuis la version 1.20, il faut à présent utiliser le **dtype = np.bool_**.\n",
    "\n",
    "Pour ce type, tout ce qui est **différent de zéro sera égal à True**, et les **éléments valant 0 seront égaux à False**.\n",
    "\n",
    "On va passer le premier élément à 0 pour bien voir le False."
   ]
  },
  {
   "cell_type": "code",
   "execution_count": 24,
   "id": "retired-depth",
   "metadata": {},
   "outputs": [
    {
     "data": {
      "text/plain": [
       "array([[False,  True],\n",
       "       [ True,  True]])"
      ]
     },
     "execution_count": 24,
     "metadata": {},
     "output_type": "execute_result"
    }
   ],
   "source": [
    "matrice = np.array([[0,2], [3,4]], dtype=np.bool_)\n",
    "matrice"
   ]
  },
  {
   "cell_type": "markdown",
   "id": "increasing-basics",
   "metadata": {},
   "source": [
    "### <center><u>5ème exemple : déclarer un ndarray de chaînes de caractères</u></center>"
   ]
  },
  {
   "cell_type": "code",
   "execution_count": 27,
   "id": "dense-angola",
   "metadata": {},
   "outputs": [
    {
     "data": {
      "text/plain": [
       "array([['0', '2'],\n",
       "       ['3', '4']], dtype='<U1')"
      ]
     },
     "execution_count": 27,
     "metadata": {},
     "output_type": "execute_result"
    }
   ],
   "source": [
    "matrice = np.array([[0,2], [3,4]], dtype=np.str_)\n",
    "matrice"
   ]
  },
  {
   "cell_type": "markdown",
   "id": "alternate-improvement",
   "metadata": {},
   "source": [
    "Le type np.str est déprécié depuis Numpy 1.20, il faut utiliser le **dtype = np.str_**. On constate que tous les éléments ont été mis entre apostrophes (quotes), ce qui signifie que chaque élément est maintenant une chaîne de caractères.\n",
    "\n",
    "On peut voir dans notre méthode array() que le dtype est égal à **\"<U1\"**. Cela signifie que la plus longue chaîne de caractères de notre matrice contient 1 élément. Si nous avions une chaîne de caractères constituée de **3 éléments, alors le dtype serait égal à U3**.\n",
    "\n",
    "On peut le démontrer avec l'exemple ci-dessous."
   ]
  },
  {
   "cell_type": "code",
   "execution_count": 28,
   "id": "endangered-elimination",
   "metadata": {},
   "outputs": [
    {
     "data": {
      "text/plain": [
       "array([['404', '2'],\n",
       "       ['3', '4']], dtype='<U3')"
      ]
     },
     "execution_count": 28,
     "metadata": {},
     "output_type": "execute_result"
    }
   ],
   "source": [
    "matrice = np.array([[404,2], [3,4]], dtype=np.str_)\n",
    "matrice"
   ]
  }
 ],
 "metadata": {
  "kernelspec": {
   "display_name": "Python 3",
   "language": "python",
   "name": "python3"
  },
  "language_info": {
   "codemirror_mode": {
    "name": "ipython",
    "version": 3
   },
   "file_extension": ".py",
   "mimetype": "text/x-python",
   "name": "python",
   "nbconvert_exporter": "python",
   "pygments_lexer": "ipython3",
   "version": "3.9.2"
  }
 },
 "nbformat": 4,
 "nbformat_minor": 5
}
