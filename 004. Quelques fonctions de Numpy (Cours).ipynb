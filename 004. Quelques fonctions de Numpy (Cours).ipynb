{
 "cells": [
  {
   "cell_type": "markdown",
   "id": "express-governor",
   "metadata": {},
   "source": [
    "# <center>IV. Quelques fonctions de Numpy</center>"
   ]
  },
  {
   "cell_type": "markdown",
   "id": "better-pencil",
   "metadata": {},
   "source": [
    "**Ne pas oublier d'exécuter la cellule ci-dessous (Import de Numpy)!**"
   ]
  },
  {
   "cell_type": "code",
   "execution_count": 2,
   "id": "square-diary",
   "metadata": {},
   "outputs": [],
   "source": [
    "import numpy as np"
   ]
  },
  {
   "cell_type": "markdown",
   "id": "organic-pittsburgh",
   "metadata": {},
   "source": [
    "# <center>IV.1. Bases nécessaires à l'utilisation de fonctions universelles</center>"
   ]
  },
  {
   "cell_type": "markdown",
   "id": "black-subject",
   "metadata": {},
   "source": [
    "Les **fonctions universelles** permettent de travailler sur des **ndarray élément par élément** (Elementwise functions)."
   ]
  },
  {
   "cell_type": "markdown",
   "id": "sustained-primary",
   "metadata": {},
   "source": [
    "**Documentation Numpy sur les fonctions universelles (ufunc)** : https://numpy.org/doc/stable/reference/ufuncs.html\n",
    "\n",
    "Le premier type de fonction évoqué sur la documentation de Numpy sont celles de type \"**Broadcasting**\". Nous allons commencer par étudier celles-ci."
   ]
  },
  {
   "cell_type": "markdown",
   "id": "failing-species",
   "metadata": {},
   "source": [
    "### <center><u> IV.1.1. Broadcasting</u></center>"
   ]
  },
  {
   "cell_type": "markdown",
   "id": "treated-share",
   "metadata": {},
   "source": [
    "#### <center><u> IV.1.1.1. Fonctionnement du Broadcasting</u></center>"
   ]
  },
  {
   "cell_type": "markdown",
   "id": "usual-paraguay",
   "metadata": {},
   "source": [
    "Le broadcasting (diffusion) est utilisée dans Numpy pour gérer des opérations avec des **ndarray de dimensions différentes**.\n",
    "\n",
    "Commençons par instancier **deux vecteurs** de dimensions respectives **(1,4)**, et **(3,1)**. Vous pouvez constater que nous avons un vecteur ligne et un vecteur colonne.\n",
    "\n",
    "Nous allons également instancier une **matrice 3x4**."
   ]
  },
  {
   "cell_type": "code",
   "execution_count": 14,
   "id": "split-hampton",
   "metadata": {},
   "outputs": [
    {
     "name": "stdout",
     "output_type": "stream",
     "text": [
      "Dimensions du vecteur ligne : (4,)\n",
      "Dimensions du vecteur colonne : (3, 1)\n",
      "Dimensions de la matrice : (3, 4)\n"
     ]
    }
   ],
   "source": [
    "vect_ligne = np.array([1,2,3,4])\n",
    "vect_colonne = np.array([[1], [2], [3]])\n",
    "matrice = np.array([[1,2,3,4], [5,6,7,8], [9,10,11,12]])\n",
    "\n",
    "print(\"Dimensions du vecteur ligne :\", vect_ligne.shape)\n",
    "print(\"Dimensions du vecteur colonne :\", vect_colonne.shape)\n",
    "print(\"Dimensions de la matrice :\", matrice.shape)"
   ]
  },
  {
   "cell_type": "markdown",
   "id": "considerable-plant",
   "metadata": {},
   "source": [
    "Si on essaie de procéder à une addition entre le vecteur ligne et la matrice, voici ce que l'on obtient."
   ]
  },
  {
   "cell_type": "code",
   "execution_count": 15,
   "id": "expected-bermuda",
   "metadata": {
    "scrolled": true
   },
   "outputs": [
    {
     "data": {
      "text/plain": [
       "array([[ 2,  4,  6,  8],\n",
       "       [ 6,  8, 10, 12],\n",
       "       [10, 12, 14, 16]])"
      ]
     },
     "execution_count": 15,
     "metadata": {},
     "output_type": "execute_result"
    }
   ],
   "source": [
    "vect_ligne + matrice"
   ]
  },
  {
   "cell_type": "markdown",
   "id": "mathematical-simon",
   "metadata": {},
   "source": [
    "Le vecteur ligne vect_ligne est converti (broadcast) en une matrice de dimension 3x4 ressemblant à ceci np.array([1,2,3,4],[1,2,3,4],[1,2,3,4]).\n",
    "\n",
    "Chaque **ligne de la matrice est ensuite additionnée avec le vecteur ligne**.\n",
    "\n",
    "L'opérateur + est l'équivalent de la méthode np.add(), qui permet de faire un broadcast des ndarray de dimensions différentes."
   ]
  },
  {
   "cell_type": "code",
   "execution_count": 16,
   "id": "grave-hygiene",
   "metadata": {},
   "outputs": [
    {
     "data": {
      "text/plain": [
       "array([[ 2,  4,  6,  8],\n",
       "       [ 6,  8, 10, 12],\n",
       "       [10, 12, 14, 16]])"
      ]
     },
     "execution_count": 16,
     "metadata": {},
     "output_type": "execute_result"
    }
   ],
   "source": [
    "np.add(vect_ligne, matrice)"
   ]
  },
  {
   "cell_type": "markdown",
   "id": "confused-official",
   "metadata": {},
   "source": [
    "Vous voyez que cela donne le **même résultat**.\n",
    "\n",
    "Lorsqu'on effectue un broadcast, l'une des dimensions des deux ndarray doit être similaire pour que celui-ci ait lieu et qu'une opération élément par élément soit effectuée.\n",
    "\n",
    "On peut tester une autre addition entre **notre vecteur colonne et notre matrice**."
   ]
  },
  {
   "cell_type": "code",
   "execution_count": 18,
   "id": "sustainable-virginia",
   "metadata": {},
   "outputs": [
    {
     "data": {
      "text/plain": [
       "array([[ 2,  3,  4,  5],\n",
       "       [ 7,  8,  9, 10],\n",
       "       [12, 13, 14, 15]])"
      ]
     },
     "execution_count": 18,
     "metadata": {},
     "output_type": "execute_result"
    }
   ],
   "source": [
    "vect_colonne = np.array([[1], [2], [3]])\n",
    "matrice = np.array([[1,2,3,4], [5,6,7,8], [9,10,11,12]])\n",
    "\n",
    "np.add(vect_colonne, matrice)"
   ]
  },
  {
   "cell_type": "markdown",
   "id": "trained-heart",
   "metadata": {},
   "source": [
    "Ici, l'opération **élément par élément** s'est effectuée **colonne par colonne**. Le broadcast a pu se faire car la matrice et le vecteur colonne possède **le même nombre de lignes**.\n",
    "\n",
    "Le vecteur colonne est devenue une **matrice 3x4** (3 lignes et 4 colonnes), comme ceci : **np.array([1,1,1,1], [2,2,2,2], [3,3,3,3]])**"
   ]
  },
  {
   "cell_type": "markdown",
   "id": "automated-interstate",
   "metadata": {},
   "source": [
    "#### <center><u> IV.1.1.2. Les règles à respecter pour le broadcasting</u></center>"
   ]
  },
  {
   "cell_type": "markdown",
   "id": "usual-palestine",
   "metadata": {},
   "source": [
    "**Les règles du broadcasting**\n",
    "\n",
    "1. Les ndarrays ont tous **la même shape**\n",
    "\n",
    "2. Les ndarrays ont tous le **même nombre de dimension** et la **longueur de chaque dimension doit être soit similaire soit égale à 1**.\n",
    "\n",
    "3. Les ndarrays qui n'ont **pas assez de dimension** peuvent se voir **ajouter une dimension de longueur 1** pour satisfaire la deuxième propriété.\n"
   ]
  },
  {
   "cell_type": "markdown",
   "id": "crude-physiology",
   "metadata": {},
   "source": [
    "### <center><u> IV.1.2. Type casting</u></center>"
   ]
  },
  {
   "cell_type": "markdown",
   "id": "noted-macro",
   "metadata": {},
   "source": [
    "Opérer un cast, c'est **changer le type de tous les éléments d'un array**."
   ]
  },
  {
   "cell_type": "markdown",
   "id": "alpha-battery",
   "metadata": {},
   "source": [
    "#### <center><u> IV.1.2.1. Conversion d'int en float</u></center>"
   ]
  },
  {
   "cell_type": "code",
   "execution_count": 3,
   "id": "known-marks",
   "metadata": {},
   "outputs": [
    {
     "name": "stdout",
     "output_type": "stream",
     "text": [
      "int32\n",
      "int32\n",
      "[[ 2.  4.  6.  8.]\n",
      " [ 6.  8. 10. 12.]]\n"
     ]
    }
   ],
   "source": [
    "vecteur = np.array([1,2,3,4])\n",
    "matrice = np.array([[1,2,3,4], [5,6,7,8]])\n",
    "\n",
    "print(vecteur.dtype)\n",
    "print(matrice.dtype)\n",
    "\n",
    "resultat = np.add(vecteur, matrice, dtype=np.float32)\n",
    "print(resultat)"
   ]
  },
  {
   "cell_type": "markdown",
   "id": "spoken-complexity",
   "metadata": {},
   "source": [
    "Un point représentant la virgule des nombres décimaux a été ajouté à chacune des valeurs."
   ]
  },
  {
   "cell_type": "markdown",
   "id": "tamil-humor",
   "metadata": {},
   "source": [
    "#### <center><u> IV.1.2.2. Conversion d'int en string</u></center>"
   ]
  },
  {
   "cell_type": "code",
   "execution_count": 26,
   "id": "medieval-surrey",
   "metadata": {},
   "outputs": [
    {
     "name": "stderr",
     "output_type": "stream",
     "text": [
      "<ipython-input-26-d70938593b28>:4: DeprecationWarning: `np.str` is a deprecated alias for the builtin `str`. To silence this warning, use `str` by itself. Doing this will not modify any behavior and is safe. If you specifically wanted the numpy scalar type, use `np.str_` here.\n",
      "Deprecated in NumPy 1.20; for more details and guidance: https://numpy.org/devdocs/release/1.20.0-notes.html#deprecations\n",
      "  np.add(vecteur, matrice, dtype=np.str)\n"
     ]
    },
    {
     "ename": "UFuncTypeError",
     "evalue": "ufunc 'add' did not contain a loop with signature matching types (dtype('<U'), dtype('<U')) -> dtype('<U')",
     "output_type": "error",
     "traceback": [
      "\u001b[1;31m---------------------------------------------------------------------------\u001b[0m",
      "\u001b[1;31mUFuncTypeError\u001b[0m                            Traceback (most recent call last)",
      "\u001b[1;32m<ipython-input-26-d70938593b28>\u001b[0m in \u001b[0;36m<module>\u001b[1;34m\u001b[0m\n\u001b[0;32m      2\u001b[0m \u001b[0mmatrice\u001b[0m \u001b[1;33m=\u001b[0m \u001b[0mnp\u001b[0m\u001b[1;33m.\u001b[0m\u001b[0marray\u001b[0m\u001b[1;33m(\u001b[0m\u001b[1;33m[\u001b[0m\u001b[1;33m[\u001b[0m\u001b[1;36m1\u001b[0m\u001b[1;33m,\u001b[0m\u001b[1;36m2\u001b[0m\u001b[1;33m,\u001b[0m\u001b[1;36m3\u001b[0m\u001b[1;33m,\u001b[0m\u001b[1;36m4\u001b[0m\u001b[1;33m]\u001b[0m\u001b[1;33m,\u001b[0m \u001b[1;33m[\u001b[0m\u001b[1;36m5\u001b[0m\u001b[1;33m,\u001b[0m\u001b[1;36m6\u001b[0m\u001b[1;33m,\u001b[0m\u001b[1;36m7\u001b[0m\u001b[1;33m,\u001b[0m\u001b[1;36m8\u001b[0m\u001b[1;33m]\u001b[0m\u001b[1;33m]\u001b[0m\u001b[1;33m)\u001b[0m\u001b[1;33m\u001b[0m\u001b[1;33m\u001b[0m\u001b[0m\n\u001b[0;32m      3\u001b[0m \u001b[1;33m\u001b[0m\u001b[0m\n\u001b[1;32m----> 4\u001b[1;33m \u001b[0mnp\u001b[0m\u001b[1;33m.\u001b[0m\u001b[0madd\u001b[0m\u001b[1;33m(\u001b[0m\u001b[0mvecteur\u001b[0m\u001b[1;33m,\u001b[0m \u001b[0mmatrice\u001b[0m\u001b[1;33m,\u001b[0m \u001b[0mdtype\u001b[0m\u001b[1;33m=\u001b[0m\u001b[0mnp\u001b[0m\u001b[1;33m.\u001b[0m\u001b[0mstr\u001b[0m\u001b[1;33m)\u001b[0m\u001b[1;33m\u001b[0m\u001b[1;33m\u001b[0m\u001b[0m\n\u001b[0m",
      "\u001b[1;31mUFuncTypeError\u001b[0m: ufunc 'add' did not contain a loop with signature matching types (dtype('<U'), dtype('<U')) -> dtype('<U')"
     ]
    }
   ],
   "source": [
    "vecteur = np.array([1,2,3,4])\n",
    "matrice = np.array([[1,2,3,4], [5,6,7,8]])\n",
    "\n",
    "np.add(vecteur, matrice, dtype=np.str)"
   ]
  },
  {
   "cell_type": "markdown",
   "id": "checked-premiere",
   "metadata": {},
   "source": [
    "**Une erreur est levée** car **numpy essaie d'abord de convertir tous les éléments des deux ndarrays en chaîne de caractères, et ensuite il essaie de procéder à l'addition**. Ce qui ne fonctionne pas, puisqu'on ne peut pas additionner des chaînes de caractères dans un ndarray."
   ]
  },
  {
   "cell_type": "markdown",
   "id": "interstate-corrections",
   "metadata": {},
   "source": [
    "### <center><u> IV.1.3. Utiliser une fonction sur un axe donné</u></center>"
   ]
  },
  {
   "cell_type": "markdown",
   "id": "behind-hazard",
   "metadata": {},
   "source": [
    "Créons une matrice de dimension 2x5."
   ]
  },
  {
   "cell_type": "code",
   "execution_count": 27,
   "id": "hazardous-health",
   "metadata": {},
   "outputs": [],
   "source": [
    "matrice = np.array([[1,2,3,4,5], [6,7,8,9,10]])"
   ]
  },
  {
   "cell_type": "markdown",
   "id": "harmful-chemistry",
   "metadata": {},
   "source": [
    "A présent, chercheons à calculer la moyenne de chaque colonne de la matrice. On va utiliser la méthode np.mean (mean en anglais signifie moyenne), et on va lui passer en paramètre axis=0."
   ]
  },
  {
   "cell_type": "code",
   "execution_count": 28,
   "id": "geographic-brunei",
   "metadata": {},
   "outputs": [
    {
     "data": {
      "text/plain": [
       "array([3.5, 4.5, 5.5, 6.5, 7.5])"
      ]
     },
     "execution_count": 28,
     "metadata": {},
     "output_type": "execute_result"
    }
   ],
   "source": [
    "np.mean(matrice, axis=0)"
   ]
  },
  {
   "cell_type": "markdown",
   "id": "seven-september",
   "metadata": {},
   "source": [
    "Ici on se retrouve avec une seule ligne, et **chaque colonne contient la moyenne des valeurs de chaque colonne de la matrice**.\n",
    "\n",
    "résultat = [(1+6) / 2 = 3.5, (2+7) / 2 = 4.5, (3+8) / 2 = 5.5, (4+9) / 2 = 6.5, (5+10) / 2 = 7.5]\n"
   ]
  },
  {
   "cell_type": "markdown",
   "id": "concerned-revision",
   "metadata": {},
   "source": [
    "**Essayons avec axis = 1.**"
   ]
  },
  {
   "cell_type": "code",
   "execution_count": 29,
   "id": "reverse-polls",
   "metadata": {},
   "outputs": [
    {
     "data": {
      "text/plain": [
       "array([3., 8.])"
      ]
     },
     "execution_count": 29,
     "metadata": {},
     "output_type": "execute_result"
    }
   ],
   "source": [
    "np.mean(matrice, axis=1)"
   ]
  },
  {
   "cell_type": "markdown",
   "id": "violent-slave",
   "metadata": {},
   "source": [
    "Cette fois, nous avons la moyenne pour chaque ligne de la matrice. Notre matrice avait 2 lignes, donc on a 2 moyennes de calculées."
   ]
  },
  {
   "cell_type": "markdown",
   "id": "hourly-boards",
   "metadata": {},
   "source": [
    "# <center>IV.2. Quelques exemples de fonctionnement de fonctions universelles</center>"
   ]
  },
  {
   "cell_type": "markdown",
   "id": "raising-alliance",
   "metadata": {},
   "source": [
    "### <center><u> IV.2.1. La fonction negative()</u></center>"
   ]
  },
  {
   "cell_type": "markdown",
   "id": "recovered-donna",
   "metadata": {},
   "source": [
    "Inverse le signe de tous les éléments d'un ndarray.\n",
    "\n",
    "**Scalaire**"
   ]
  },
  {
   "cell_type": "code",
   "execution_count": 34,
   "id": "polar-reporter",
   "metadata": {},
   "outputs": [
    {
     "data": {
      "text/plain": [
       "-3"
      ]
     },
     "execution_count": 34,
     "metadata": {},
     "output_type": "execute_result"
    }
   ],
   "source": [
    "scalaire = np.array(3)\n",
    "np.negative(scalaire)"
   ]
  },
  {
   "cell_type": "markdown",
   "id": "technological-opening",
   "metadata": {},
   "source": [
    "**Vecteur**"
   ]
  },
  {
   "cell_type": "code",
   "execution_count": 37,
   "id": "literary-ukraine",
   "metadata": {},
   "outputs": [
    {
     "data": {
      "text/plain": [
       "array([ 3,  2,  1,  0, -1, -2, -3])"
      ]
     },
     "execution_count": 37,
     "metadata": {},
     "output_type": "execute_result"
    }
   ],
   "source": [
    "vecteur = np.array([-3,-2,-1,0,1,2,3])\n",
    "np.negative(vecteur)"
   ]
  },
  {
   "cell_type": "markdown",
   "id": "important-swift",
   "metadata": {},
   "source": [
    "**Matrice**"
   ]
  },
  {
   "cell_type": "code",
   "execution_count": 38,
   "id": "earlier-novelty",
   "metadata": {},
   "outputs": [
    {
     "data": {
      "text/plain": [
       "array([[-400, -401, -402, -403],\n",
       "       [-404, -405, -406, -407]])"
      ]
     },
     "execution_count": 38,
     "metadata": {},
     "output_type": "execute_result"
    }
   ],
   "source": [
    "matrice = np.array([[400, 401, 402, 403], [404, 405, 406, 407]])\n",
    "np.negative(matrice)"
   ]
  },
  {
   "cell_type": "markdown",
   "id": "responsible-expert",
   "metadata": {},
   "source": [
    "Les signes ont bel et bien tous été inversés. Les nombres positifs sont devenus négatifs et les nombres négatifs sont devenus positifs."
   ]
  },
  {
   "cell_type": "markdown",
   "id": "acting-dover",
   "metadata": {},
   "source": [
    "### <center><u> IV.2.2. La fonction power()</u></center>"
   ]
  },
  {
   "cell_type": "markdown",
   "id": "durable-review",
   "metadata": {},
   "source": [
    "Le ndarray passé en premier paramètre est mis à la puissance du ndarray passé en second paramètre.\n",
    "\n",
    "**Scalaire et scalaire**"
   ]
  },
  {
   "cell_type": "code",
   "execution_count": 39,
   "id": "scientific-taiwan",
   "metadata": {},
   "outputs": [
    {
     "data": {
      "text/plain": [
       "27"
      ]
     },
     "execution_count": 39,
     "metadata": {},
     "output_type": "execute_result"
    }
   ],
   "source": [
    "scalaire = np.array(3)\n",
    "puissance = np.array(3)\n",
    "\n",
    "np.power(scalaire, puissance)"
   ]
  },
  {
   "cell_type": "markdown",
   "id": "historical-marking",
   "metadata": {},
   "source": [
    "**Vecteur et scalaire**"
   ]
  },
  {
   "cell_type": "code",
   "execution_count": 41,
   "id": "optical-journalism",
   "metadata": {},
   "outputs": [
    {
     "data": {
      "text/plain": [
       "array([  1,   4,   9,  16,  25,  36,  49,  64,  81, 100], dtype=int32)"
      ]
     },
     "execution_count": 41,
     "metadata": {},
     "output_type": "execute_result"
    }
   ],
   "source": [
    "vecteur = np.array([1,2,3,4,5,6,7,8,9,10])\n",
    "puissance = np.array(2)\n",
    "\n",
    "np.power(vecteur, puissance)"
   ]
  },
  {
   "cell_type": "markdown",
   "id": "legitimate-royal",
   "metadata": {},
   "source": [
    "Le carré de toutes les valeurs contenues dans le vecteur ont été calculées."
   ]
  },
  {
   "cell_type": "markdown",
   "id": "competitive-chance",
   "metadata": {},
   "source": [
    "**Vecteur et vecteur** \n",
    "\n",
    "Note : pensez à respecter les règles du broadcasting"
   ]
  },
  {
   "cell_type": "code",
   "execution_count": 44,
   "id": "suspected-effects",
   "metadata": {},
   "outputs": [
    {
     "data": {
      "text/plain": [
       "array([  1,   4,   3,  16,   5,  36,   7,  64,   9, 100], dtype=int32)"
      ]
     },
     "execution_count": 44,
     "metadata": {},
     "output_type": "execute_result"
    }
   ],
   "source": [
    "vecteur = np.array([1,2,3,4,5,6,7,8,9,10])\n",
    "puissance = np.array([1,2,1,2,1,2,1,2,1,2])\n",
    "\n",
    "np.power(vecteur, puissance)"
   ]
  },
  {
   "cell_type": "markdown",
   "id": "royal-routine",
   "metadata": {},
   "source": [
    "Toutes les valeurs du vecteur ont été mis à la puissance des valeurs contenues dans le vecteur puissance élément par élément."
   ]
  },
  {
   "cell_type": "markdown",
   "id": "still-finger",
   "metadata": {},
   "source": [
    "**Matrice et scalaire**"
   ]
  },
  {
   "cell_type": "code",
   "execution_count": 45,
   "id": "manual-radio",
   "metadata": {},
   "outputs": [
    {
     "data": {
      "text/plain": [
       "array([[  1,   8,  27],\n",
       "       [ 64, 125, 216],\n",
       "       [343, 512, 729]], dtype=int32)"
      ]
     },
     "execution_count": 45,
     "metadata": {},
     "output_type": "execute_result"
    }
   ],
   "source": [
    "matrice = np.array([[1,2,3], [4,5,6], [7,8,9]])\n",
    "puissance = np.array(3)\n",
    "\n",
    "np.power(matrice, puissance)"
   ]
  },
  {
   "cell_type": "markdown",
   "id": "reflected-lincoln",
   "metadata": {},
   "source": [
    "Toutes les valeurs contenues dans la matrice ont été calculées à la puissance 3."
   ]
  },
  {
   "cell_type": "markdown",
   "id": "alive-swedish",
   "metadata": {},
   "source": [
    "**Matrice et vecteur**"
   ]
  },
  {
   "cell_type": "code",
   "execution_count": 46,
   "id": "rubber-record",
   "metadata": {},
   "outputs": [
    {
     "data": {
      "text/plain": [
       "array([[  1,   4,  27],\n",
       "       [  4,  25, 216],\n",
       "       [  7,  64, 729]], dtype=int32)"
      ]
     },
     "execution_count": 46,
     "metadata": {},
     "output_type": "execute_result"
    }
   ],
   "source": [
    "matrice = np.array([[1,2,3], [4,5,6], [7,8,9]])\n",
    "vecteur = np.array([1,2,3])\n",
    "\n",
    "np.power(matrice, vecteur)"
   ]
  },
  {
   "cell_type": "markdown",
   "id": "smaller-rwanda",
   "metadata": {},
   "source": [
    "Un broadcast est opéré sur le vecteur pour le transformer en matrice [[1,2,3], [1,2,3], [1,2,3]].\n",
    "\n",
    "Ensuite chaque ligne de la matrice est parcourue, et chacune des valeurs de ces lignes est mis à la puissance de la valeur à l'indice correspondant dans la matrice de puissance.\n",
    "\n",
    "Pour résumer, tous les éléments de la colonne 0 ont été mis à la puissance 1, la colonne 1 à la puissance 2 et la colonne 2 à la puissance 3."
   ]
  },
  {
   "cell_type": "markdown",
   "id": "verbal-journalist",
   "metadata": {},
   "source": [
    "**Matrice et matrice**"
   ]
  },
  {
   "cell_type": "code",
   "execution_count": 47,
   "id": "stupid-qualification",
   "metadata": {},
   "outputs": [
    {
     "data": {
      "text/plain": [
       "array([[        1,         4,        27],\n",
       "       [      256,      3125,     46656],\n",
       "       [   823543,  16777216, 387420489]], dtype=int32)"
      ]
     },
     "execution_count": 47,
     "metadata": {},
     "output_type": "execute_result"
    }
   ],
   "source": [
    "matrice = np.array([[1,2,3], [4,5,6], [7,8,9]])\n",
    "\n",
    "np.power(matrice, matrice)"
   ]
  },
  {
   "cell_type": "markdown",
   "id": "sought-funeral",
   "metadata": {},
   "source": [
    "### <center><u> IV.2.3. La fonction conjugate()</u></center>"
   ]
  },
  {
   "cell_type": "markdown",
   "id": "pediatric-harbor",
   "metadata": {},
   "source": [
    "**Scalaire**"
   ]
  },
  {
   "cell_type": "code",
   "execution_count": 50,
   "id": "geological-eugene",
   "metadata": {},
   "outputs": [
    {
     "data": {
      "text/plain": [
       "(3-2j)"
      ]
     },
     "execution_count": 50,
     "metadata": {},
     "output_type": "execute_result"
    }
   ],
   "source": [
    "z1 = np.array(3 + 2j)\n",
    "\n",
    "np.conjugate(z1)"
   ]
  },
  {
   "cell_type": "markdown",
   "id": "flexible-malawi",
   "metadata": {},
   "source": [
    "**Vecteur**"
   ]
  },
  {
   "cell_type": "code",
   "execution_count": 56,
   "id": "brief-colorado",
   "metadata": {},
   "outputs": [
    {
     "data": {
      "text/plain": [
       "array([ 1.-2.j,  0.+1.j,  3.-0.j, -1.+9.j])"
      ]
     },
     "execution_count": 56,
     "metadata": {},
     "output_type": "execute_result"
    }
   ],
   "source": [
    "z1 = np.array(1+2j)\n",
    "z2 = np.array(0-1j)\n",
    "z3 = np.array(3)\n",
    "z4 = np.array(-1-9j)\n",
    "\n",
    "vc = np.array([z1, z2, z3, z4])\n",
    "np.conjugate(vc)"
   ]
  },
  {
   "cell_type": "markdown",
   "id": "referenced-groove",
   "metadata": {},
   "source": [
    "Le conjugué de chaque élément a été calculé."
   ]
  },
  {
   "cell_type": "markdown",
   "id": "stuffed-tattoo",
   "metadata": {},
   "source": [
    "**Matrice**"
   ]
  },
  {
   "cell_type": "code",
   "execution_count": 58,
   "id": "historical-french",
   "metadata": {},
   "outputs": [
    {
     "data": {
      "text/plain": [
       "array([[  2.-3.j,   0.+3.j],\n",
       "       [  1.-0.j, -10.+2.j]])"
      ]
     },
     "execution_count": 58,
     "metadata": {},
     "output_type": "execute_result"
    }
   ],
   "source": [
    "z1 = np.array(2+3j)\n",
    "z2 = np.array(0-3j)\n",
    "z3 = np.array(1)\n",
    "z4 = np.array(-10-2j)\n",
    "\n",
    "matrice = np.array([[z1, z2], [z3, z4]])\n",
    "np.conjugate(matrice)"
   ]
  },
  {
   "cell_type": "markdown",
   "id": "quarterly-forty",
   "metadata": {},
   "source": [
    "### <center><u> IV.2.4. La fonction around()</u></center>"
   ]
  },
  {
   "cell_type": "markdown",
   "id": "elegant-cabin",
   "metadata": {},
   "source": [
    "Permet d'arrondir les valeurs dans un ndarray avec un certain nombre de chiffres après la virgule."
   ]
  },
  {
   "cell_type": "markdown",
   "id": "eligible-hamburg",
   "metadata": {},
   "source": [
    "**Testons avec un ndarray de dimension 1**"
   ]
  },
  {
   "cell_type": "code",
   "execution_count": 12,
   "id": "occupational-failure",
   "metadata": {},
   "outputs": [],
   "source": [
    "vect_a = np.array([1.3245, 3.2168, 9.8541, 6.3210, 1.0234, 7.850])"
   ]
  },
  {
   "cell_type": "markdown",
   "id": "magnetic-context",
   "metadata": {},
   "source": [
    "Arrondissons chaque valeur à 2 chiffres après la virgule grâce au paramètre decimals."
   ]
  },
  {
   "cell_type": "code",
   "execution_count": 13,
   "id": "political-ozone",
   "metadata": {},
   "outputs": [
    {
     "data": {
      "text/plain": [
       "array([1.32, 3.22, 9.85, 6.32, 1.02, 7.85])"
      ]
     },
     "execution_count": 13,
     "metadata": {},
     "output_type": "execute_result"
    }
   ],
   "source": [
    "np.around(vect_a, decimals=2)"
   ]
  },
  {
   "cell_type": "markdown",
   "id": "optical-employer",
   "metadata": {},
   "source": [
    "**Testons avec un ndarray de dimension 2**"
   ]
  },
  {
   "cell_type": "code",
   "execution_count": 14,
   "id": "authorized-billy",
   "metadata": {},
   "outputs": [],
   "source": [
    "mat_a = np.array([[1.213, 3.654, 6.654, 9.201, 4.403], [5.021, 5.558, 6.321, 7.013, 8.631]])"
   ]
  },
  {
   "cell_type": "markdown",
   "id": "intelligent-clearance",
   "metadata": {},
   "source": [
    "Arrondissons chaque valeur à 1 seul chiffre après la virgule"
   ]
  },
  {
   "cell_type": "code",
   "execution_count": 15,
   "id": "convinced-virtue",
   "metadata": {},
   "outputs": [
    {
     "data": {
      "text/plain": [
       "array([[1.2, 3.7, 6.7, 9.2, 4.4],\n",
       "       [5. , 5.6, 6.3, 7. , 8.6]])"
      ]
     },
     "execution_count": 15,
     "metadata": {},
     "output_type": "execute_result"
    }
   ],
   "source": [
    "np.around(mat_a, decimals=1)"
   ]
  }
 ],
 "metadata": {
  "kernelspec": {
   "display_name": "Python 3",
   "language": "python",
   "name": "python3"
  },
  "language_info": {
   "codemirror_mode": {
    "name": "ipython",
    "version": 3
   },
   "file_extension": ".py",
   "mimetype": "text/x-python",
   "name": "python",
   "nbconvert_exporter": "python",
   "pygments_lexer": "ipython3",
   "version": "3.9.2"
  }
 },
 "nbformat": 4,
 "nbformat_minor": 5
}
